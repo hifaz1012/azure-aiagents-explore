{
 "cells": [
  {
   "cell_type": "markdown",
   "id": "5b3509e0-11d9-4fec-91ae-821f462c07b4",
   "metadata": {},
   "source": [
    "# Agents evaluators\n",
    "\n",
    "Agents emit messages, and providing the above inputs typically require parsing messages and extracting the relevant information. If you're building agents using Azure AI Agent Service, we provide native integration for evaluation that directly takes their agent messages.\n",
    "\n",
    "> https://learn.microsoft.com/en-us/azure/ai-foundry/concepts/evaluation-evaluators/agent-evaluators"
   ]
  },
  {
   "cell_type": "code",
   "execution_count": 1,
   "id": "7ff1b673-7017-4f61-becc-e2fcf2cb1997",
   "metadata": {},
   "outputs": [],
   "source": [
    "import datetime\n",
    "import os\n",
    "import sys\n",
    "\n",
    "from azure.ai.evaluation import AzureOpenAIModelConfiguration, IntentResolutionEvaluator, TaskAdherenceEvaluator\n",
    "from azure.identity import DefaultAzureCredential\n",
    "from dotenv import load_dotenv\n",
    "from pprint import pprint"
   ]
  },
  {
   "cell_type": "code",
   "execution_count": null,
   "id": "73eac572-c29e-4463-b99d-a424402a16fe",
   "metadata": {},
   "outputs": [],
   "source": [
    "load_dotenv(\".env\")\n",
    "\n",
    "# Azure OpenAI deployment information\n",
    "azure_openai_deployment = os.environ.get(\"AZURE_OPENAI_DEPLOYMENT_NAME\")  # e.g., \"gpt-4\"\n",
    "azure_openai_endpoint = os.environ.get(\"AZURE_OPENAI_ENDPOINT\")\n",
    "azure_openai_api_key = os.environ.get(\"AZURE_OPENAI_API_KEY\")  # e.g., \"your-api-key\"\n",
    "azure_openai_api_version = os.environ.get(\"AZURE_OPENAI_API_VERSION\")  # Use the latest API version"
   ]
  },
  {
   "cell_type": "code",
   "execution_count": null,
   "id": "9286f82a-a9eb-4d7b-ac96-71952b155f5e",
   "metadata": {},
   "outputs": [],
   "source": [
    "model_config = AzureOpenAIModelConfiguration(\n",
    "    azure_endpoint=azure_openai_endpoint,\n",
    "    api_key=azure_openai_api_key,\n",
    "    azure_deployment=azure_openai_deployment,\n",
    "    api_version=azure_openai_api_version,\n",
    ")"
   ]
  },
  {
   "cell_type": "markdown",
   "id": "62743668-65a3-44dd-99a3-44c65f719946",
   "metadata": {},
   "source": [
    "## Intent resolution\n",
    "\n",
    "> Measures how accurately the agent identifies and addresses user intentions.\n",
    "\n",
    "IntentResolutionEvaluator measures how well the system identifies and understands a user's request, including how well it scopes the user’s intent, asks clarifying questions, and reminds end users of its scope of capabilities. Higher score means better identification of user intent."
   ]
  },
  {
   "cell_type": "code",
   "execution_count": 6,
   "id": "f9ab6d09-417d-4cc9-9951-1c160e233a79",
   "metadata": {},
   "outputs": [
    {
     "name": "stderr",
     "output_type": "stream",
     "text": [
      "Class IntentResolutionEvaluator: This is an experimental class, and may change at any time. Please see https://aka.ms/azuremlexperimental for more information.\n"
     ]
    }
   ],
   "source": [
    "intent_resolution = IntentResolutionEvaluator(model_config=model_config, threshold=3)"
   ]
  },
  {
   "cell_type": "code",
   "execution_count": 7,
   "id": "621e0965-8cc7-4961-8bae-5e62667a3865",
   "metadata": {},
   "outputs": [
    {
     "name": "stdout",
     "output_type": "stream",
     "text": [
      "{'additional_details': {'actual_user_intent': 'find out the opening hours of the Eiffel Tower',\n",
      "                        'agent_perceived_intent': 'provide the opening hours of the Eiffel Tower',\n",
      "                        'conversation_has_intent': True,\n",
      "                        'correct_intent_detected': True,\n",
      "                        'intent_resolved': False},\n",
      " 'intent_resolution': 4.0,\n",
      " 'intent_resolution_reason': \"The response directly answers the user's question by providing the opening hours of the Eiffel Tower. However, it \"\n",
      "                             'lacks a disclaimer about possible seasonal changes or special dates, and does not specify if these hours are current '\n",
      "                             'or may vary. While the answer is clear and relevant, it could be improved with a note about checking for updates or '\n",
      "                             'exceptions. Thus, it addresses the intent with moderate accuracy but has minor omissions.',\n",
      " 'intent_resolution_result': 'pass',\n",
      " 'intent_resolution_threshold': 3}\n"
     ]
    }
   ],
   "source": [
    "response = intent_resolution(\n",
    "    query=\"What are the opening hours of the Eiffel tower?\",\n",
    "    response=\"Opening hours of the Eiffel tower are 9:00 AM to 11:00 PM.\")\n",
    "\n",
    "pprint(response, width=150)"
   ]
  },
  {
   "cell_type": "code",
   "execution_count": 8,
   "id": "80d6f26d-4e7b-4e18-b563-73a8d72b8fa7",
   "metadata": {},
   "outputs": [
    {
     "name": "stdout",
     "output_type": "stream",
     "text": [
      "{'additional_details': {'actual_user_intent': 'find out the opening hours of the Eiffel Tower',\n",
      "                        'agent_perceived_intent': 'provide closing hours for Montparnasse Tower',\n",
      "                        'conversation_has_intent': True,\n",
      "                        'correct_intent_detected': False,\n",
      "                        'intent_resolved': False},\n",
      " 'intent_resolution': 1.0,\n",
      " 'intent_resolution_reason': \"The agent's response is completely unrelated to the user's query. The user asked for the opening hours of the Eiffel \"\n",
      "                             'Tower, but the response provides the closing hours for the Montparnasse Tower, which is a different landmark and does '\n",
      "                             \"not address the user's request in any way.\",\n",
      " 'intent_resolution_result': 'fail',\n",
      " 'intent_resolution_threshold': 3}\n"
     ]
    }
   ],
   "source": [
    "response = intent_resolution(\n",
    "    query=\"What are the opening hours of the Eiffel tower?\",\n",
    "    response=\"Closing hours of the Montparnasse tower are 9:00 AM to 8:00 PM.\"\n",
    ")\n",
    "\n",
    "pprint(response, width=150)"
   ]
  },
  {
   "cell_type": "markdown",
   "id": "e9ced126-1912-47ab-9874-2c3ef9111db5",
   "metadata": {},
   "source": [
    "### Task adherence\n",
    "\n",
    "> Measures how well the agent follows through on identified tasks.\n",
    "\n",
    "In various task-oriented AI systems such as agentic systems, it's important to assess whether the agent has stayed on track to complete a given task instead of making inefficient or out-of-scope steps. TaskAdherenceEvaluator measures how well an agent’s response adheres to their assigned tasks, according to their task instruction (extracted from system message and user query), and available tools. Higher score means better adherence of the system instruction to resolve the given task."
   ]
  },
  {
   "cell_type": "code",
   "execution_count": 9,
   "id": "d05b4d46-a171-4a5e-9b9b-f472043a98c6",
   "metadata": {},
   "outputs": [
    {
     "name": "stderr",
     "output_type": "stream",
     "text": [
      "Class TaskAdherenceEvaluator: This is an experimental class, and may change at any time. Please see https://aka.ms/azuremlexperimental for more information.\n"
     ]
    }
   ],
   "source": [
    "task_adherence = TaskAdherenceEvaluator(model_config=model_config, threshold=3)"
   ]
  },
  {
   "cell_type": "code",
   "execution_count": 10,
   "id": "97c340bf-19c5-4043-b7f3-76dc63e39944",
   "metadata": {},
   "outputs": [
    {
     "name": "stdout",
     "output_type": "stream",
     "text": [
      "{'task_adherence': 2.0,\n",
      " 'task_adherence_reason': 'The response gives one relevant but extremely limited suggestion, missing most of the expected content for \"best '\n",
      "                          'practices.\"',\n",
      " 'task_adherence_result': 'fail',\n",
      " 'task_adherence_threshold': 3}\n"
     ]
    }
   ],
   "source": [
    "resp = task_adherence(\n",
    "    query=\"What are the best practices for maintaining a healthy rose garden during the summer?\",\n",
    "    response=\"Make sure to water your roses.\")\n",
    "\n",
    "pprint(resp, width=150)"
   ]
  },
  {
   "cell_type": "code",
   "execution_count": 11,
   "id": "a76d49e5-051c-41fe-8e24-610e1ee93428",
   "metadata": {},
   "outputs": [
    {
     "name": "stdout",
     "output_type": "stream",
     "text": [
      "{'task_adherence': 5.0,\n",
      " 'task_adherence_reason': 'The response is comprehensive, accurate, and directly follows the instructions, providing a complete set of best '\n",
      "                          'practices for summer rose garden care.',\n",
      " 'task_adherence_result': 'pass',\n",
      " 'task_adherence_threshold': 3}\n"
     ]
    }
   ],
   "source": [
    "resp = task_adherence(\n",
    "    query=\"What are the best practices for maintaining a healthy rose garden during the summer?\",\n",
    "    response=\"\"\"\n",
    "        Water deeply 2–3 times per week, preferably in the morning.\n",
    "Mulch around plants to retain moisture and suppress weeds.\n",
    "Deadhead spent blooms and lightly prune for air circulation.\n",
    "Monitor for pests and diseases; treat early with natural remedies.\n",
    "Fertilize every 4–6 weeks with a balanced or high-potassium fertilizer.\n",
    "Keep the garden clean by removing fallen leaves and petals.\n",
    "Check soil health and amend as needed for optimal growth.\"\"\")\n",
    "\n",
    "pprint(resp, width=150)"
   ]
  },
  {
   "cell_type": "code",
   "execution_count": 12,
   "id": "fbe3ae8d-ba9a-4390-9a58-b0b2bfd15f13",
   "metadata": {},
   "outputs": [
    {
     "name": "stdout",
     "output_type": "stream",
     "text": [
      "{'task_adherence': 1.0,\n",
      " 'task_adherence_reason': 'The response is entirely irrelevant to the question and does not provide any useful or related information about rose '\n",
      "                          'garden maintenance.',\n",
      " 'task_adherence_result': 'fail',\n",
      " 'task_adherence_threshold': 3}\n"
     ]
    }
   ],
   "source": [
    "resp = task_adherence(\n",
    "    query=\"What are the best practices for maintaining a healthy rose garden during the summer?\",\n",
    "    response=\"Buy some new flowers\")\n",
    "\n",
    "pprint(resp, width=150)"
   ]
  },
  {
   "cell_type": "code",
   "execution_count": null,
   "id": "5fd92ec9-9231-4b44-8a82-385cfba8a07b",
   "metadata": {},
   "outputs": [],
   "source": []
  }
 ],
 "metadata": {
  "kernelspec": {
   "display_name": "test_env",
   "language": "python",
   "name": "python3"
  },
  "language_info": {
   "codemirror_mode": {
    "name": "ipython",
    "version": 3
   },
   "file_extension": ".py",
   "mimetype": "text/x-python",
   "name": "python",
   "nbconvert_exporter": "python",
   "pygments_lexer": "ipython3",
   "version": "3.11.9"
  },
  "varInspector": {
   "cols": {
    "lenName": 16,
    "lenType": 16,
    "lenVar": 40
   },
   "kernels_config": {
    "python": {
     "delete_cmd_postfix": "",
     "delete_cmd_prefix": "del ",
     "library": "var_list.py",
     "varRefreshCmd": "print(var_dic_list())"
    },
    "r": {
     "delete_cmd_postfix": ") ",
     "delete_cmd_prefix": "rm(",
     "library": "var_list.r",
     "varRefreshCmd": "cat(var_dic_list()) "
    }
   },
   "types_to_exclude": [
    "module",
    "function",
    "builtin_function_or_method",
    "instance",
    "_Feature"
   ],
   "window_display": false
  }
 },
 "nbformat": 4,
 "nbformat_minor": 5
}
