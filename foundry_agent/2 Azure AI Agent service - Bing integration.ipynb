{
 "cells": [
  {
   "cell_type": "markdown",
   "id": "431cc026-279f-4105-8444-f1b93650da0d",
   "metadata": {},
   "source": [
    "# Azure AI Agent service - Bing integration\n",
    "\n",
    "<img src=\"https://learn.microsoft.com/en-us/azure/ai-services/agents/media/agent-service-the-glue.png\" width=800>\n",
    "\n",
    "> https://learn.microsoft.com/en-us/azure/ai-services/agents/"
   ]
  },
  {
   "cell_type": "code",
   "execution_count": 5,
   "id": "22eab459-0adb-42c1-86dd-ee4cdfb77c8a",
   "metadata": {},
   "outputs": [],
   "source": [
    "import datetime\n",
    "import os\n",
    "import sys\n",
    "import time\n",
    "\n",
    "from azure.ai.agents import AgentsClient\n",
    "from azure.ai.projects import AIProjectClient\n",
    "from azure.ai.agents.models import BingGroundingTool, ListSortOrder, MessageRole\n",
    "from azure.identity import DefaultAzureCredential\n",
    "from dotenv import load_dotenv"
   ]
  },
  {
   "cell_type": "code",
   "execution_count": 6,
   "id": "65334de7-4005-401a-89c1-be24f75abbd9",
   "metadata": {},
   "outputs": [
    {
     "data": {
      "text/plain": [
       "False"
      ]
     },
     "execution_count": 6,
     "metadata": {},
     "output_type": "execute_result"
    }
   ],
   "source": [
    "load_dotenv(\".env\")"
   ]
  },
  {
   "cell_type": "markdown",
   "id": "54fa0903-f907-4c7f-a51b-4893d15ff371",
   "metadata": {},
   "source": [
    "## Grounding Bing Search"
   ]
  },
  {
   "cell_type": "code",
   "execution_count": 7,
   "id": "76c7bbb7-0faa-4500-ba42-7c5b176f6196",
   "metadata": {},
   "outputs": [],
   "source": [
    "project_client = AIProjectClient(\n",
    "    endpoint=os.getenv(\"PROJECT_ENDPOINT\"),\n",
    "    credential=DefaultAzureCredential(),\n",
    ")"
   ]
  },
  {
   "cell_type": "markdown",
   "id": "e31b2d3a",
   "metadata": {},
   "source": [
    "### Create connection to bing grounding service"
   ]
  },
  {
   "cell_type": "code",
   "execution_count": 8,
   "id": "4fd3e38c-22c7-4d57-9471-09a115f09477",
   "metadata": {},
   "outputs": [],
   "source": [
    "# Shoud be: /subscriptions/<subscription_id>/resourceGroups/<resource_group_name>/providers/Microsoft.CognitiveServices/accounts/<ai_service_name>/projects/<project_name>/con#nections/<connection_name>\n",
    "bing_connection = project_client.connections.get(name=os.environ[\"BING_CONNECTION_NAME\"])\n",
    "BING_CONN_ID = bing_connection.id\n",
    "model = os.getenv(\"MODEL_DEPLOYMENT_NAME\")"
   ]
  },
  {
   "cell_type": "code",
   "execution_count": null,
   "id": "5c20b2ef-e913-4dc0-8bdf-116772d8fc9a",
   "metadata": {},
   "outputs": [
    {
     "data": {
      "text/plain": [
       "<azure.ai.agents.models._patch.BingGroundingTool at 0x206e290a450>"
      ]
     },
     "execution_count": 9,
     "metadata": {},
     "output_type": "execute_result"
    }
   ],
   "source": [
    "bing = BingGroundingTool(connection_id=BING_CONN_ID)\n",
    "bing\n"
   ]
  },
  {
   "cell_type": "markdown",
   "id": "1db5f5d1",
   "metadata": {},
   "source": [
    "### Create agent with Bing Grounding tool"
   ]
  },
  {
   "cell_type": "code",
   "execution_count": null,
   "id": "f85e9d94-49a7-4d4e-a0ea-f64987951cb4",
   "metadata": {},
   "outputs": [
    {
     "name": "stdout",
     "output_type": "stream",
     "text": [
      "Created agent, ID: asst_XbYA2x5RMy8GXc4N36m8KDlx\n"
     ]
    }
   ],
   "source": [
    "# Create the agent with the Bing grounding tool\n",
    "agents_client = project_client.agents\n",
    "agent = agents_client.create_agent(\n",
    "    model=model,\n",
    "    temperature=0.7,\n",
    "    name=\"Bing-grounding-agent-demo\",\n",
    "    instructions=\"You are an AI Agent that can do some web search using Bing\",\n",
    "    tools=bing.definitions,\n",
    "    headers={\"x-ms-enable-preview\": \"true\"},\n",
    "    description=\"Agent with Grounding Bing Search\",\n",
    "    )\n",
    "\n",
    "print(f\"Created agent, ID: {agent.id}\")"
   ]
  },
  {
   "cell_type": "markdown",
   "id": "e037d937",
   "metadata": {},
   "source": [
    "### Example 1"
   ]
  },
  {
   "cell_type": "code",
   "execution_count": 14,
   "id": "411697dc-ec6b-4d80-8871-6d10003084d6",
   "metadata": {},
   "outputs": [],
   "source": [
    "prompt = \"What is the current price of the MICROSOFT share in USD?\""
   ]
  },
  {
   "cell_type": "code",
   "execution_count": 15,
   "id": "87d18c42-dbea-406f-bdd1-3382602bb375",
   "metadata": {},
   "outputs": [
    {
     "name": "stdout",
     "output_type": "stream",
     "text": [
      "🧵 [1] Created thread  | ID: thread_N2eEI4QbQRanFsvYtFE6MeFe\n",
      "💬 [2] Created message | ID: msg_ECUMpHoMRNhCVhRXgWHH3gal\n",
      "🏃 [3] Created run     | ID: run_i4pxiMqkwrJMBEjo13CnJo8p\n",
      "⏳ [4] Polling run status...\n",
      "🔄 Status: RunStatus.IN_PROGRESS\n",
      "🔄 Status: RunStatus.IN_PROGRESS\n",
      "🔄 Status: RunStatus.COMPLETED\n",
      "\n",
      "🔍 Step ID details: step_GwOvKl5hA3F2svOKdhUnEh6V, Type: RunStepType.MESSAGE_CREATION\n",
      "Details step: {'id': 'step_GwOvKl5hA3F2svOKdhUnEh6V', 'object': 'thread.run.step', 'created_at': 1756103342, 'run_id': 'run_i4pxiMqkwrJMBEjo13CnJo8p', 'assistant_id': 'asst_XbYA2x5RMy8GXc4N36m8KDlx', 'thread_id': 'thread_N2eEI4QbQRanFsvYtFE6MeFe', 'type': 'message_creation', 'status': 'completed', 'cancelled_at': None, 'completed_at': 1756103342, 'expires_at': None, 'failed_at': None, 'last_error': None, 'step_details': {'type': 'message_creation', 'message_creation': {'message_id': 'msg_3pjODIqtxcmkcizMJjjrReK2'}}, 'usage': {'prompt_tokens': 2053, 'completion_tokens': 47, 'total_tokens': 2100, 'prompt_token_details': {'cached_tokens': 0}}}\n",
      "\n",
      "🔍 Step ID details: step_Px1T8zXutFTPzbX0LLxcinkW, Type: RunStepType.TOOL_CALLS\n",
      "Details step: {'id': 'step_Px1T8zXutFTPzbX0LLxcinkW', 'object': 'thread.run.step', 'created_at': 1756103340, 'run_id': 'run_i4pxiMqkwrJMBEjo13CnJo8p', 'assistant_id': 'asst_XbYA2x5RMy8GXc4N36m8KDlx', 'thread_id': 'thread_N2eEI4QbQRanFsvYtFE6MeFe', 'type': 'tool_calls', 'status': 'completed', 'cancelled_at': None, 'completed_at': 1756103342, 'expires_at': None, 'failed_at': None, 'last_error': None, 'step_details': {'type': 'tool_calls', 'tool_calls': [{'id': 'call_F1AXFgDWXl4EdmBoBK6UJh0L', 'type': 'bing_grounding', 'bing_grounding': {'requesturl': 'https://api.bing.microsoft.com/v7.0/search?q=Microsoft share price USD current', 'response_metadata': \"{'market': 'en-US', 'num_docs_retrieved': 5, 'num_docs_actually_used': 5, 'bing_trace_id': '68ac02ada33f409bbdeb32a08a79ba3d', 'bing_apim_request_id': '578b69c2-f876-4e6a-9690-0d3289d5967a'}\"}}]}, 'usage': {'prompt_tokens': 759, 'completion_tokens': 18, 'total_tokens': 777, 'prompt_token_details': {'cached_tokens': 0}}}\n",
      "\n",
      "🤖 [5] Agent responses:\n",
      "\u001b[1;34m\n",
      "💡 → MessageRole.USER: What is the current price of the MICROSOFT share in USD?\n",
      "\u001b[1;34m\n",
      "💡 → MessageRole.AGENT: The current price of Microsoft (MSFT) shares is approximately $509.77 USD as of the latest available update, which may be delayed by a few minutes due to market reporting practices【3:4†source】.\n",
      "\u001b[1;32m\n",
      "🔗 Source 1: [Microsoft Stock Price Quote - NASDAQ: MSFT - Morningstar](https://www.morningstar.com/stocks/xnas/msft/quote)\n",
      "\u001b[0m\n"
     ]
    }
   ],
   "source": [
    "# Step 1: Create a thread\n",
    "thread = agents_client.threads.create()\n",
    "print(f\"🧵 [1] Created thread  | ID: {thread.id}\")\n",
    "\n",
    "# Step 2: Send the user's message\n",
    "message = agents_client.messages.create(thread_id=thread.id,\n",
    "                                         role=\"user\",\n",
    "                                         content=prompt)\n",
    "print(f\"💬 [2] Created message | ID: {message.id}\")\n",
    "\n",
    "# Step 3: Start a run\n",
    "run = agents_client.runs.create(thread_id=thread.id, agent_id=agent.id)\n",
    "print(f\"🏃 [3] Created run     | ID: {run.id}\")\n",
    "\n",
    "# Step 4: Poll run status\n",
    "print(\"⏳ [4] Polling run status...\")\n",
    "while run.status in {\"queued\", \"in_progress\", \"requires_action\"}:\n",
    "    time.sleep(1)\n",
    "    run = agents_client.runs.get(thread_id=thread.id, run_id=run.id)\n",
    "    print(f\"🔄 Status: {run.status}\")\n",
    "\n",
    "    if run.status == \"failed\":\n",
    "        print(f\"❌ Run failed | Error: {run.last_error}\")\n",
    "        break\n",
    "\n",
    "run_steps = agents_client.run_steps.list(thread_id=thread.id, run_id=run.id)\n",
    "for step in run_steps:\n",
    "    print(f\"\\n🔍 Step ID details: {step.id}, Type: {step.type}\")\n",
    "    print(f\"Details step: {step}\")\n",
    "\n",
    "# Step 5: Display agent responses\n",
    "print(\"\\n🤖 [5] Agent responses:\")\n",
    "messages = agents_client.messages.list(thread_id=thread.id, order=ListSortOrder.ASCENDING)\n",
    "\n",
    "for msg in messages:\n",
    "    print(\"\\033[1;34m\")  # Blue text for agent messages\n",
    "    if msg.text_messages:\n",
    "        last_text = msg.text_messages[-1]\n",
    "        print(f\"💡 → {msg.role}: {last_text.text.value}\")\n",
    "    if msg.url_citation_annotations:\n",
    "        print(\"\\033[1;32m\")  # Green text for citations\n",
    "        idx = 1\n",
    "        for annotation in msg.url_citation_annotations:\n",
    "            print(f\"🔗 Source {idx}: [{annotation.url_citation.title}]({annotation.url_citation.url})\")\n",
    "            idx += 1\n",
    "\n",
    "print(\"\\033[0m\")  # Reset color"
   ]
  },
  {
   "cell_type": "markdown",
   "id": "6aa7f136",
   "metadata": {},
   "source": [
    "## Clean Up: Delete Agent"
   ]
  },
  {
   "cell_type": "code",
   "execution_count": 16,
   "id": "a8d63337-ebde-48f3-b245-29e063a61347",
   "metadata": {},
   "outputs": [
    {
     "name": "stdout",
     "output_type": "stream",
     "text": [
      "Deleted agent, agent ID: asst_XbYA2x5RMy8GXc4N36m8KDlx\n"
     ]
    }
   ],
   "source": [
    "agents_client.delete_agent(agent.id)\n",
    "print(f\"Deleted agent, agent ID: {agent.id}\")"
   ]
  }
 ],
 "metadata": {
  "kernelspec": {
   "display_name": "test_env",
   "language": "python",
   "name": "python3"
  },
  "language_info": {
   "codemirror_mode": {
    "name": "ipython",
    "version": 3
   },
   "file_extension": ".py",
   "mimetype": "text/x-python",
   "name": "python",
   "nbconvert_exporter": "python",
   "pygments_lexer": "ipython3",
   "version": "3.11.9"
  },
  "varInspector": {
   "cols": {
    "lenName": 16,
    "lenType": 16,
    "lenVar": 40
   },
   "kernels_config": {
    "python": {
     "delete_cmd_postfix": "",
     "delete_cmd_prefix": "del ",
     "library": "var_list.py",
     "varRefreshCmd": "print(var_dic_list())"
    },
    "r": {
     "delete_cmd_postfix": ") ",
     "delete_cmd_prefix": "rm(",
     "library": "var_list.r",
     "varRefreshCmd": "cat(var_dic_list()) "
    }
   },
   "types_to_exclude": [
    "module",
    "function",
    "builtin_function_or_method",
    "instance",
    "_Feature"
   ],
   "window_display": false
  }
 },
 "nbformat": 4,
 "nbformat_minor": 5
}
