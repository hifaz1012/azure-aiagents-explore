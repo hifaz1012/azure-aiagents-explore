{
 "cells": [
  {
   "cell_type": "markdown",
   "id": "f7a7e3a2-9ec0-4ec1-b10d-21dcfcbb39ef",
   "metadata": {},
   "source": [
    "# Azure AI Agent service - MCP support\n",
    "\n",
    "<img src=\"https://learn.microsoft.com/en-us/azure/ai-services/agents/media/agent-service-the-glue.png\" width=800>\n",
    "\n",
    "> https://learn.microsoft.com/en-us/azure/ai-foundry/agents/how-to/tools/model-context-protocol\n",
    "\n",
    "Supported regions: westus, westus2, uaenorth, southindia and switzerlandnorth\n",
    "\n",
    "Install required packages:\n",
    "\n",
    "`pip install gradio python-dotenv azure-identity azure-ai-projects>=1.0.0b12 azure-ai-agents>=1.1.0b4 --pre`"
   ]
  },
  {
   "cell_type": "code",
   "execution_count": 6,
   "id": "41b6b0e0-d284-4cb9-a892-9b1de8e6191f",
   "metadata": {},
   "outputs": [],
   "source": [
    "import os\n",
    "import json\n",
    "import re\n",
    "import sys\n",
    "import time\n",
    "\n",
    "from azure.ai.agents.models import ListSortOrder, MessageTextContent, McpTool, RequiredMcpToolCall, SubmitToolApprovalAction, ToolApproval\n",
    "from azure.ai.projects import AIProjectClient\n",
    "from azure.identity import DefaultAzureCredential\n",
    "from dotenv import load_dotenv"
   ]
  },
  {
   "cell_type": "markdown",
   "id": "13d7c989-2d77-4082-9029-21efb7bd4c66",
   "metadata": {},
   "source": [
    "## 1. Settings"
   ]
  },
  {
   "cell_type": "code",
   "execution_count": 4,
   "id": "fbbb0a6a-9cf3-41da-b95a-027e6b38d09c",
   "metadata": {},
   "outputs": [],
   "source": [
    "load_dotenv()\n",
    "\n",
    "# Retrieve the project endpoint from environment variables\n",
    "project_endpoint = os.environ[\"PROJECT_ENDPOINT\"]\n",
    "model_name = os.environ[\"MODEL_DEPLOYMENT_NAME\"]"
   ]
  },
  {
   "cell_type": "code",
   "execution_count": 8,
   "id": "e35f7a9f-1667-4502-b1f9-8cdaea6f88cb",
   "metadata": {},
   "outputs": [],
   "source": [
    "project_client = AIProjectClient(endpoint=project_endpoint,\n",
    "                                 credential=DefaultAzureCredential())\n",
    "\n",
    "# Convenience handle for the Agents sub‑client\n",
    "agents_client = project_client.agents"
   ]
  },
  {
   "cell_type": "markdown",
   "id": "c7e89364-7a0b-4891-aa99-88ec56ff9b97",
   "metadata": {},
   "source": [
    "## 2. Example"
   ]
  },
  {
   "cell_type": "code",
   "execution_count": 9,
   "id": "4dc5d1a4-708a-421c-aeb1-d125792388a5",
   "metadata": {},
   "outputs": [
    {
     "data": {
      "text/plain": [
       "'https://gitmcp.io/Azure-Samples/ai-foundry-agents-samples'"
      ]
     },
     "execution_count": 9,
     "metadata": {},
     "output_type": "execute_result"
    }
   ],
   "source": [
    "# With this prefix 'https://gitmcp.io/' you can instantly create a remote RCP server from any GitHub repo\n",
    "github_url = \"https://github.com/Azure-Samples/ai-foundry-agents-samples\"\n",
    "\n",
    "get_substr = re.search(r'\\.com/(.*)', github_url)\n",
    "substr = get_substr.group(1)\n",
    "mcp_server_url = f\"https://gitmcp.io/{substr}\"\n",
    "\n",
    "mcp_server_url"
   ]
  },
  {
   "cell_type": "code",
   "execution_count": 11,
   "id": "802203cd-c53b-475d-beca-6658adb06a44",
   "metadata": {},
   "outputs": [],
   "source": [
    "prompt = \"Any python code for a mcp server with Azure AI Agent?\""
   ]
  },
  {
   "cell_type": "code",
   "execution_count": 13,
   "id": "d479ffd8-14d8-4f97-85dd-b084bda54e90",
   "metadata": {},
   "outputs": [
    {
     "name": "stdout",
     "output_type": "stream",
     "text": [
      "🎉 Created agent, agent ID: asst_utT9utVh98zyQdvpb3U0pRZn\n",
      "✨ MCP Server: github at https://gitmcp.io/Azure-Samples/ai-foundry-agents-samples\n",
      "🧵 Created thread, thread ID: thread_o74ELSOiluYRQZgJrd9bVjg8\n",
      "💬 Created message, message ID: msg_3NcoSUlqAq5yi0X3VnHAsBkF\n",
      "⏳ Run status: RunStatus.IN_PROGRESS\n",
      "⏳ Run status: RunStatus.IN_PROGRESS\n",
      "⏳ Run status: RunStatus.IN_PROGRESS\n",
      "⏳ Run status: RunStatus.IN_PROGRESS\n",
      "⏳ Run status: RunStatus.IN_PROGRESS\n",
      "⏳ Run status: RunStatus.IN_PROGRESS\n",
      "⏳ Run status: RunStatus.IN_PROGRESS\n",
      "⏳ Run status: RunStatus.IN_PROGRESS\n",
      "⏳ Run status: RunStatus.IN_PROGRESS\n",
      "⏳ Run status: RunStatus.IN_PROGRESS\n",
      "⏳ Run status: RunStatus.IN_PROGRESS\n",
      "⏳ Run status: RunStatus.COMPLETED\n",
      "\n",
      "🔄 Run step: step_WS1bCZhcpZbZDIijJ0870BRq, status: RunStepStatus.COMPLETED, type: RunStepType.MESSAGE_CREATION\n",
      "🔄 Run step: step_f9I2n4ugX3YrCDnFfM3Brska, status: RunStepStatus.COMPLETED, type: RunStepType.TOOL_CALLS\n",
      "🛠️ Tool call details:\n",
      "{\n",
      "     \"id\": \"call_lwsUYDKL9jPQoNBCzUd688Ii\",\n",
      "     \"type\": \"mcp\",\n",
      "     \"arguments\": \"{\\\"url\\\":\\\"https://github.com/Azure-Samples/ai-foundry-agents-samples/blob/6245ef8407c79333d66ac5c0c23950dea9e12b2c/examples/mcp/streamable-http/ai-foundry-agent/sample_agents_mcp.py\\\"}\",\n",
      "     \"name\": \"fetch_generic_url_content\",\n",
      "     \"server_label\": \"github\",\n",
      "     \"output\": \"[Skip to content](#start-of-content)  <link /> <link />     ## Navigation Menu\\n<button>Toggle navigation</button>\\n\\n[Sign in](/login?return_to=https%3A%2F%2Fgithub.com%2FAzure-Samples%2Fai-foundry-agents-samples%2Fblob%2F6245ef8407c79333d66ac5c0c23950dea9e12b2c%2Fexamples%2Fmcp%2Fstreamable-http%2Fai-foundry-agent%2Fsample_agents_mcp.py) \\n<react-partial-anchor><tool-tip>Appearance settings</tool-tip> <template><link /> <link /></template></react-partial-anchor>\\n\\n* <button>Platform</button>\\n\\n  * [GitHub Copilot\\nWrite better code with AI](https://github.com/features/copilot)\\n  * [GitHub Spark New\\nBuild and deploy intelligent apps](https://github.com/features/spark)\\n  * [GitHub Models New\\nManage and compare prompts](https://github.com/features/models)\\n  * [GitHub Advanced Security\\nFind and fix vulnerabilities](https://github.com/security/advanced-security)\\n  * [Actions\\nAutomate any workflow](https://github.com/features/actions)\\n\\n  * [Codespaces\\nInstant dev environments](https://github.com/features/codespaces)\\n  * [Issues\\nPlan and track work](https://github.com/features/issues)\\n  * [Code Review\\nManage code changes](https://github.com/features/code-review)\\n  * [Discussions\\nCollaborate outside of code](https://github.com/features/discussions)\\n  * [Code Search\\nFind more, search less](https://github.com/features/code-search)\\n\\nExplore\\n\\n  * [Why GitHub](https://github.com/why-github)\\n  * [Documentation](https://docs.github.com)\\n  * [GitHub Skills](https://skills.github.com)\\n  * [Blog](https://github.blog)\\n\\nIntegrations\\n\\n  * [GitHub Marketplace](https://github.com/marketplace)\\n  * [MCP Registry](https://github.com/mcp)\\n\\n[View all features](https://github.com/features)\\n* <button>Solutions</button>\\n\\nBy company size\\n\\n  * [Enterprises](https://github.com/enterprise)\\n  * [Small and medium teams](https://github.com/team)\\n  * [Startups](https://github.com/enterprise/startups)\\n  * [Nonprofits](/solutions/industry/nonprofits)\\n\\nBy use case\\n\\n  * [DevSecOps](/solutions/use-case/devsecops)\\n  * [DevOps](/solutions/use-case/devops)\\n  * [CI/CD](/solutions/use-case/ci-cd)\\n  * [View all use cases](/solutions/use-case)\\n\\nBy industry\\n\\n  * [Healthcare](/solutions/industry/healthcare)\\n  * [Financial services](/solutions/industry/financial-services)\\n  * [Manufacturing](/solutions/industry/manufacturing)\\n  * [Government](/solutions/industry/government)\\n  * [View all industries](/solutions/industry)\\n\\n[View all solutions](/solutions)\\n* <button>Resources</button>\\n\\nTopics\\n\\n  * [AI](/resources/articles/ai)\\n  * [DevOps](/resources/articles/devops)\\n  * [Security](/resources/articles/security)\\n  * [Software Development](/resources/articles/software-development)\\n  * [View all](/resources/articles)\\n\\nExplore\\n\\n  * [Learning Pathways](https://resources.github.com/learn/pathways)\\n  * [Events & Webinars](https://github.com/resources/events)\\n  * [Ebooks & Whitepapers](https://github.com/resources/whitepapers)\\n  * [Customer Stories](https://github.com/customer-stories)\\n  * [Partners](https://partner.github.com)\\n  * [Executive Insights](https://github.com/solutions/executive-insights)\\n* <button>Open Source</button>\\n\\n  * [GitHub Sponsors\\nFund open source developers](/sponsors)\\n\\n  * [The ReadME Project\\nGitHub community articles](https://github.com/readme)\\n\\nRepositories\\n\\n  * [Topics](https://github.com/topics)\\n  * [Trending](https://github.com/trending)\\n  * [Collections](https://github.com/collections)\\n* <button>Enterprise</button>\\n\\n  * [Enterprise platform\\nAI-powered developer platform](/enterprise)\\n\\nAvailable add-ons\\n\\n  * [GitHub Advanced Security\\nEnterprise-grade security features](https://github.com/security/advanced-security)\\n  * [Copilot for business\\nEnterprise-grade AI features](/features/copilot/copilot-business)\\n  * [Premium Support\\nEnterprise-grade 24/7 support](/premium-support)\\n* [Pricing](https://github.com/pricing)\\n\\n<qbsearch-input><button>Search or jump to...</button> \\n\\n<modal-dialog># Search code, repositories, users, issues, pull requests...\\n\\n[Search syntax tips](https://docs.github.com/search-github/github-code-search/understanding-github-code-search-syntax)</modal-dialog>\\n\\n<dialog-helper><dialog># Provide feedback\\n\\n\\n<button>Cancel</button> <button>Submit feedback</button></dialog></dialog-helper> <custom-scopes><dialog-helper><dialog># Saved searches\\n\\n## Use saved searches to filter your results more quickly\\n\\n\\n<button>Cancel</button> <button>Create saved search</button></dialog></dialog-helper></custom-scopes></qbsearch-input>\\n\\n[Sign in](/login?return_to=https%3A%2F%2Fgithub.com%2FAzure-Samples%2Fai-foundry-agents-samples%2Fblob%2F6245ef8407c79333d66ac5c0c23950dea9e12b2c%2Fexamples%2Fmcp%2Fstreamable-http%2Fai-foundry-agent%2Fsample_agents_mcp.py)\\n[Sign up](/signup?ref_cta=Sign+up&ref_loc=header+logged+out&ref_page=%2F%3Cuser-name%3E%2F%3Crepo-name%3E%2Fblob%2Fshow&source=header-repo&source_repo=Azure-Samples%2Fai-foundry-agents-samples) \\n<react-partial-anchor><tool-tip>Appearance settings</tool-tip> <template><link /> <link /></template></react-partial-anchor>\\n<button>Resetting focus</button>\\n\\nYou signed in with another tab or window. [Reload]() to refresh your session. You signed out in another tab or window. [Reload]() to refresh your session. You switched accounts on another tab or window. [Reload]() to refresh your session. <tool-tip>Dismiss alert</tool-tip>\\n\\n<template>{{ message }}</template>\\n\\n[Azure-Samples](/Azure-Samples) / **[ai-foundry-agents-samples](/Azure-Samples/ai-foundry-agents-samples)** Public\\n\\n* [Notifications](/login?return_to=%2FAzure-Samples%2Fai-foundry-agents-samples)<tool-tip>You must be signed in to change notification settings</tool-tip>\\n* [Fork 13](/login?return_to=%2FAzure-Samples%2Fai-foundry-agents-samples)\\n* [Star 20](/login?return_to=%2FAzure-Samples%2Fai-foundry-agents-samples)\\n* [Code](/Azure-Samples/ai-foundry-agents-samples)\\n* [Issues 2](/Azure-Samples/ai-foundry-agents-samples/issues)\\n* [Pull requests 0](/Azure-Samples/ai-foundry-agents-samples/pulls)\\n* [Actions](/Azure-Samples/ai-foundry-agents-samples/actions)\\n* [Projects 0](/Azure-Samples/ai-foundry-agents-samples/projects)\\n* [Security<include-fragment>### Uh oh!\\n\\nThere was an error while loading. [Please reload this page]().</include-fragment>](/Azure-Samples/ai-foundry-agents-samples/security)\\n* [Insights](/Azure-Samples/ai-foundry-agents-samples/pulse)\\n\\n<action-menu><focus-group><tool-tip>Additional navigation options</tool-tip> <anchored-position><action-list>* [Code](/Azure-Samples/ai-foundry-agents-samples)\\n* [Issues](/Azure-Samples/ai-foundry-agents-samples/issues)\\n* [Pull requests](/Azure-Samples/ai-foundry-agents-samples/pulls)\\n* [Actions](/Azure-Samples/ai-foundry-agents-samples/actions)\\n* [Projects](/Azure-Samples/ai-foundry-agents-samples/projects)\\n* [Security](/Azure-Samples/ai-foundry-agents-samples/security)\\n* [Insights](/Azure-Samples/ai-foundry-agents-samples/pulse)</action-list></anchored-position></focus-group></action-menu>\\n<turbo-frame><div id=\\\"repo-content-pjax-container\\\" class=\\\"repository-content \\\" > <react-app app-name=\\\"react-code-view\\\" initial-path=\\\"/Azure-Samples/ai-foundry-agents-samples/blob/6245ef8407c79333d66ac5c0c23950dea9e12b2c/examples/mcp/streamable-http/ai-foundry-agent/sample\\\\_agents\\\\_mcp.py\\\" style=\\\"display: block; min-height: calc(100vh - 64px);\\\" data-attempted-ssr=\\\"false\\\" data-ssr=\\\"false\\\" data-lazy=\\\"false\\\" data-alternate=\\\"false\\\" data-data-router-enabled=\\\"false\\\" data-react-profiling=\\\"false\\\" > <script type=\\\"application/json\\\" data-target=\\\"react-app.embeddedData\\\">{\\\"payload\\\":{\\\"allShortcutsEnabled\\\":false,\\\"fileTree\\\":{\\\"examples/mcp/streamable-http/ai-foundry-agent\\\":{\\\"items\\\":\\\\[{\\\"name\\\":\\\".env\\\\_sample\\\",\\\"path\\\":\\\"examples/mcp/streamable-http/ai-foundry-agent/.env\\\\_sample\\\",\\\"contentType\\\":\\\"file\\\"},{\\\"name\\\":\\\".python-version\\\",\\\"path\\\":\\\"examples/mcp/streamable-http/ai-foundry-agent/.python-version\\\",\\\"contentType\\\":\\\"file\\\"},{\\\"name\\\":\\\"README.md\\\",\\\"path\\\":\\\"examples/mcp/streamable-http/ai-foundry-agent/README.md\\\",\\\"contentType\\\":\\\"file\\\"},{\\\"name\\\":\\\"main.py\\\",\\\"path\\\":\\\"examples/mcp/streamable-http/ai-foundry-agent/main.py\\\",\\\"contentType\\\":\\\"file\\\"},{\\\"name\\\":\\\"pyproject.toml\\\",\\\"path\\\":\\\"examples/mcp/streamable-http/ai-foundry-agent/pyproject.toml\\\",\\\"contentType\\\":\\\"file\\\"},{\\\"name\\\":\\\"sample\\\\_agents\\\\_mcp.py\\\",\\\"path\\\":\\\"examples/mcp/streamable-http/ai-foundry-agent/sample\\\\_agents\\\\_mcp.py\\\",\\\"contentType\\\":\\\"file\\\"},{\\\"name\\\":\\\"uv.lock\\\",\\\"path\\\":\\\"examples/mcp/streamable-http/ai-foundry-agent/uv.lock\\\",\\\"contentType\\\":\\\"file\\\"}\\\\],\\\"totalCount\\\":7},\\\"examples/mcp/streamable-http\\\":{\\\"items\\\":\\\\[{\\\"name\\\":\\\"ai-foundry-agent\\\",\\\"path\\\":\\\"examples/mcp/streamable-http/ai-foundry-agent\\\",\\\"contentType\\\":\\\"directory\\\"},{\\\"name\\\":\\\"apim-petstore-mcp\\\",\\\"path\\\":\\\"examples/mcp/streamable-http/apim-petstore-mcp\\\",\\\"contentType\\\":\\\"directory\\\"},{\\\"name\\\":\\\"mcp-client\\\",\\\"path\\\":\\\"examples/mcp/streamable-http/mcp-client\\\",\\\"contentType\\\":\\\"directory\\\"},{\\\"name\\\":\\\"mcp-server\\\",\\\"path\\\":\\\"examples/mcp/streamable-http/mcp-server\\\",\\\"contentType\\\":\\\"directory\\\"},{\\\"name\\\":\\\"README.md\\\",\\\"path\\\":\\\"examples/mcp/streamable-http/README.md\\\",\\\"contentType\\\":\\\"file\\\"}\\\\],\\\"totalCount\\\":5},\\\"examples/mcp\\\":{\\\"items\\\":\\\\[{\\\"name\\\":\\\"filesystem\\\\_example\\\",\\\"path\\\":\\\"examples/mcp/filesystem\\\\_example\\\",\\\"contentType\\\":\\\"directory\\\"},{\\\"name\\\":\\\"streamable-http\\\",\\\"path\\\":\\\"examples/mcp/streamable-http\\\",\\\"contentType\\\":\\\"directory\\\"}\\\\],\\\"totalCount\\\":2},\\\"examples\\\":{\\\"items\\\":\\\\[{\\\"name\\\":\\\"mcp\\\",\\\"path\\\":\\\"examples/mcp\\\",\\\"contentType\\\":\\\"directory\\\"}\\\\],\\\"totalCount\\\":1},\\\"\\\":{\\\"items\\\":\\\\[{\\\"name\\\":\\\".github\\\",\\\"path\\\":\\\".github\\\",\\\"contentType\\\":\\\"directory\\\"},{\\\"name\\\":\\\"examples\\\",\\\"path\\\":\\\"examples\\\",\\\"contentType\\\":\\\"directory\\\"},{\\\"name\\\":\\\".gitignore\\\",\\\"path\\\":\\\".gitignore\\\",\\\"contentType\\\":\\\"file\\\"},{\\\"name\\\":\\\"CHANGELOG.md\\\",\\\"path\\\":\\\"CHANGELOG.md\\\",\\\"contentType\\\":\\\"file\\\"},{\\\"name\\\":\\\"CONTRIBUTING.md\\\",\\\"path\\\":\\\"CONTRIBUTING.md\\\",\\\"contentType\\\":\\\"file\\\"},{\\\"name\\\":\\\"LICENSE.md\\\",\\\"path\\\":\\\"LICENSE.md\\\",\\\"contentType\\\":\\\"file\\\"},{\\\"name\\\":\\\"README.md\\\",\\\"path\\\":\\\"README.md\\\",\\\"contentType\\\":\\\"file\\\"}\\\\],\\\"totalCount\\\":7}},\\\"fileTreeProcessingTime\\\":8.059145000000001,\\\"foldersToFetch\\\":\\\\[\\\\],\\\"incompleteFileTree\\\":false,\\\"repo\\\":{\\\"id\\\":969602866,\\\"defaultBranch\\\":\\\"main\\\",\\\"name\\\":\\\"ai-foundry-agents-samples\\\",\\\"ownerLogin\\\":\\\"Azure-Samples\\\",\\\"currentUserCanPush\\\":false,\\\"isFork\\\":false,\\\"isEmpty\\\":false,\\\"createdAt\\\":\\\"2025-04-20T14:26:25.000Z\\\",\\\"ownerAvatar\\\":\\\"https://avatars.githubusercontent.com/u/1844662?v=4\\\",\\\"public\\\":true,\\\"private\\\":false,\\\"isOrgOwned\\\":true},\\\"codeLineWrapEnabled\\\":false,\\\"symbolsExpanded\\\":false,\\\"treeExpanded\\\":true,\\\"refInfo\\\":{\\\"name\\\":\\\"6245ef8407c79333d66ac5c0c23950dea9e12b2c\\\",\\\"listCacheKey\\\":\\\"v0:1745159186.0\\\",\\\"canEdit\\\":false,\\\"refType\\\":\\\"tree\\\",\\\"currentOid\\\":\\\"6245ef8407c79333d66ac5c0c23950dea9e12b2c\\\",\\\"canEditOnDefaultBranch\\\":false,\\\"fileExistsOnDefault\\\":true},\\\"path\\\":\\\"examples/mcp/streamable-http/ai-foundry-agent/sample\\\\_agents\\\\_mcp.py\\\",\\\"currentUser\\\":null,\\\"blob\\\":{\\\"rawLines\\\":\\\\[\\\"# pylint: disable=line-too-long,useless-suppression\\\",\\\"# ------------------------------------\\\",\\\"# Copyright (c) Microsoft Corporation.\\\",\\\"# Licensed under the MIT License.\\\",\\\"# ------------------------------------\\\",\\\"\\\",\\\"\\\\\\\\\\\"\\\\\\\\\\\"\\\\\\\\\\\"\\\",\\\"DESCRIPTION:\\\",\\\" This sample demonstrates how to use agent operations with code interpreter from\\\",\\\" the Azure Agents service using a synchronous client.\\\",\\\"\\\",\\\"USAGE:\\\",\\\" Before running the sample:\\\",\\\"\\\",\\\" Set these environment variables with your own values:\\\",\\\" 1) PROJECT\\\\_ENDPOINT - The Azure AI Project endpoint, as found in the Overview\\\",\\\" page of your Azure AI Foundry portal.\\\",\\\" 2) MODEL\\\\_DEPLOYMENT\\\\_NAME - The deployment name of the AI model, as found under the \\\\\\\\\\\"Name\\\\\\\\\\\" column in\\\",\\\" the \\\\\\\\\\\"Models + endpoints\\\\\\\\\\\" tab in your Azure AI Foundry project.\\\",\\\"\\\\\\\\\\\"\\\\\\\\\\\"\\\\\\\\\\\"\\\",\\\"\\\",\\\"import os\\\",\\\"import time\\\",\\\"import json\\\",\\\"\\\",\\\"from azure.ai.agents.models import MessageTextContent, ListSortOrder\\\",\\\"from azure.ai.projects import AIProjectClient\\\",\\\"from azure.identity import DefaultAzureCredential\\\",\\\"from azure.ai.agents.models import McpTool, RequiredMcpToolCall, SubmitToolApprovalAction, ToolApproval\\\",\\\"from dotenv import load\\\\_dotenv\\\",\\\"\\\",\\\"load\\\\_dotenv()\\\",\\\"\\\",\\\"project\\\\_client = AIProjectClient(\\\",\\\" endpoint=os.environ\\\\[\\\\\\\\\\\"PROJECT\\\\_ENDPOINT\\\\\\\\\\\"\\\\],\\\",\\\" credential=DefaultAzureCredential()\\\",\\\")\\\",\\\"\\\",\\\"# \\\\[START create\\\\_agent\\\\_with\\\\_mcp\\\\_tool\\\\]\\\",\\\"# Initialize agent MCP tool\\\",\\\"mcp\\\\_tool = McpTool(\\\",\\\" server\\\\_label=\\\\\\\\\\\"weather\\\\\\\\\\\",\\\",\\\" server\\\\_url=os.environ\\\\[\\\\\\\\\\\"WEATHER\\\\_MCP\\\\_SERVER\\\\_URL\\\\\\\\\\\"\\\\]\\\",\\\")\\\",\\\"\\\",\\\"# Create agent with MCP tool and process agent run\\\",\\\"with project\\\\_client:\\\",\\\" agents\\\\_client = project\\\\_client.agents\\\",\\\"\\\",\\\" # Create a new agent.\\\",\\\" # NOTE: To reuse existing agent, fetch it with get\\\\_agent(agent\\\\_id)\\\",\\\" agent = agents\\\\_client.create\\\\_agent(\\\",\\\" model=os.environ\\\\[\\\\\\\\\\\"MODEL\\\\_DEPLOYMENT\\\\_NAME\\\\\\\\\\\"\\\\],\\\",\\\" name=\\\\\\\\\\\"my-weather-mcp-agent\\\\\\\\\\\",\\\",\\\" instructions=\\\\\\\\\\\"You are a helpful agent that can use MCP tools to assist users. Use the available MCP tools to answer questions and perform tasks.\\\\\\\\\\\",\\\",\\\" tools=mcp\\\\_tool.definitions,\\\",\\\" )\\\",\\\" # \\\\[END create\\\\_agent\\\\_with\\\\_mcp\\\\_tool\\\\]\\\",\\\"\\\",\\\" print(f\\\\\\\\\\\"Created agent, ID: {agent.id}\\\\\\\\\\\")\\\",\\\" print(f\\\\\\\\\\\"MCP Server: {mcp\\\\_tool.server\\\\_label} at {mcp\\\\_tool.server\\\\_url}\\\\\\\\\\\")\\\",\\\"\\\",\\\" # Create thread for communication\\\",\\\" thread = agents\\\\_client.threads.create()\\\",\\\" print(f\\\\\\\\\\\"Created thread, ID: {thread.id}\\\\\\\\\\\")\\\",\\\"\\\",\\\" # Create message to thread\\\",\\\" message = agents\\\\_client.messages.create(\\\",\\\" thread\\\\_id=thread.id,\\\",\\\" role=\\\\\\\\\\\"user\\\\\\\\\\\",\\\",\\\" content=\\\\\\\\\\\"please list the weather alerts in NY\\\\\\\\\\\",\\\",\\\" )\\\",\\\" print(f\\\\\\\\\\\"Created message, ID: {message.id}\\\\\\\\\\\")\\\",\\\"\\\",\\\" # \\\\[START handle\\\\_tool\\\\_approvals\\\\]\\\",\\\" mcp\\\\_tool.set\\\\_approval\\\\_mode(\\\\\\\\\\\"never\\\\\\\\\\\")\\\",\\\" run = agents\\\\_client.runs.create(thread\\\\_id=thread.id, agent\\\\_id=agent.id, tool\\\\_resources=mcp\\\\_tool.resources)\\\",\\\" print(f\\\\\\\\\\\"Created run, ID: {run.id}\\\\\\\\\\\")\\\",\\\"\\\",\\\" while run.status in \\\\[\\\\\\\\\\\"queued\\\\\\\\\\\", \\\\\\\\\\\"in\\\\_progress\\\\\\\\\\\", \\\\\\\\\\\"requires\\\\_action\\\\\\\\\\\"\\\\]:\\\",\\\" time.sleep(1)\\\",\\\" run = agents\\\\_client.runs.get(thread\\\\_id=thread.id, run\\\\_id=run.id)\\\",\\\"\\\",\\\" if run.status == \\\\\\\\\\\"requires\\\\_action\\\\\\\\\\\" and isinstance(run.required\\\\_action, SubmitToolApprovalAction):\\\",\\\" tool\\\\_calls = run.required\\\\_action.submit\\\\_tool\\\\_approval.tool\\\\_calls\\\",\\\" if not tool\\\\_calls:\\\",\\\" print(\\\\\\\\\\\"No tool calls provided - cancelling run\\\\\\\\\\\")\\\",\\\" agents\\\\_client.runs.cancel(thread\\\\_id=thread.id, run\\\\_id=run.id)\\\",\\\" break\\\",\\\"\\\",\\\" print(f\\\\\\\\\\\"Current run status: {run.status}\\\\\\\\\\\")\\\",\\\" # \\\\[END handle\\\\_tool\\\\_approvals\\\\]\\\",\\\"\\\",\\\" print(f\\\\\\\\\\\"Run completed with status: {run.status}\\\\\\\\\\\")\\\",\\\" if run.status == \\\\\\\\\\\"failed\\\\\\\\\\\":\\\",\\\" print(f\\\\\\\\\\\"Run failed: {run.last\\\\_error}\\\\\\\\\\\")\\\",\\\"\\\",\\\" # Display run steps and tool calls\\\",\\\" run\\\\_steps = agents\\\\_client.run\\\\_steps.list(thread\\\\_id=thread.id, run\\\\_id=run.id)\\\",\\\"\\\",\\\" # Loop through each step\\\",\\\" for step in run\\\\_steps:\\\",\\\" print(f\\\\\\\\\\\"Step {step\\\\['id'\\\\]} status: {step\\\\['status'\\\\]}\\\\\\\\\\\")\\\",\\\"\\\",\\\" # Check if there are tool calls in the step details\\\",\\\" step\\\\_details = step.get(\\\\\\\\\\\"step\\\\_details\\\\\\\\\\\", {})\\\",\\\" tool\\\\_calls = step\\\\_details.get(\\\\\\\\\\\"tool\\\\_calls\\\\\\\\\\\", \\\\[\\\\])\\\",\\\"\\\",\\\" if tool\\\\_calls:\\\",\\\" print(\\\\\\\\\\\" MCP Tool calls:\\\\\\\\\\\")\\\",\\\" for call in tool\\\\_calls:\\\",\\\" print(f\\\\\\\\\\\" Tool Call ID: {call.get('id')}\\\\\\\\\\\")\\\",\\\" print(f\\\\\\\\\\\" Type: {call.get('type')}\\\\\\\\\\\")\\\",\\\"\\\",\\\" print() # add an extra newline between steps\\\",\\\"\\\",\\\" # Fetch and log all messages\\\",\\\" messages = agents\\\\_client.messages.list(thread\\\\_id=thread.id)\\\",\\\" print(\\\\\\\\\\\"\\\\\\\\\\\\\\\\nConversation:\\\\\\\\\\\")\\\",\\\" print(\\\\\\\\\\\"-\\\\\\\\\\\" \\\\* 50)\\\",\\\" for msg in messages:\\\",\\\" if msg.text\\\\_messages:\\\",\\\" last\\\\_text = msg.text\\\\_messages\\\\[-1\\\\]\\\",\\\" print(f\\\\\\\\\\\"{msg.role.upper()}: {last\\\\_text.text.value}\\\\\\\\\\\")\\\",\\\" print(\\\\\\\\\\\"-\\\\\\\\\\\" \\\\* 50)\\\",\\\"\\\",\\\" # Example of dynamic tool management\\\",\\\" print(f\\\\\\\\\\\"\\\\\\\\\\\\\\\\nDemonstrating dynamic tool management:\\\\\\\\\\\")\\\",\\\" print(f\\\\\\\\\\\"Current allowed tools: {mcp\\\\_tool.allowed\\\\_tools}\\\\\\\\\\\")\\\",\\\"\\\",\\\" agents\\\\_client.delete\\\\_agent(agent.id)\\\",\\\" print(\\\\\\\\\\\"Deleted agent\\\\\\\\\\\")\\\"\\\\],\\\"stylingDirectives\\\":\\\\[\\\\[\\\\[0,51,\\\"pl-c\\\"\\\\]\\\\],\\\\[\\\\[0,38,\\\"pl-c\\\"\\\\]\\\\],\\\\[\\\\[0,38,\\\"pl-c\\\"\\\\]\\\\],\\\\[\\\\[0,33,\\\"pl-c\\\"\\\\]\\\\],\\\\[\\\\[0,38,\\\"pl-c\\\"\\\\]\\\\],\\\\[\\\\],\\\\[\\\\[0,3,\\\"pl-s\\\"\\\\]\\\\],\\\\[\\\\[0,12,\\\"pl-s\\\"\\\\]\\\\],\\\\[\\\\[0,83,\\\"pl-s\\\"\\\\]\\\\],\\\\[\\\\[0,56,\\\"pl-s\\\"\\\\]\\\\],\\\\[\\\\[0,0,\\\"pl-s\\\"\\\\]\\\\],\\\\[\\\\[0,6,\\\"pl-s\\\"\\\\]\\\\],\\\\[\\\\[0,30,\\\"pl-s\\\"\\\\]\\\\],\\\\[\\\\[0,0,\\\"pl-s\\\"\\\\]\\\\],\\\\[\\\\[0,57,\\\"pl-s\\\"\\\\]\\\\],\\\\[\\\\[0,81,\\\"pl-s\\\"\\\\]\\\\],\\\\[\\\\[0,63,\\\"pl-s\\\"\\\\]\\\\],\\\\[\\\\[0,103,\\\"pl-s\\\"\\\\]\\\\],\\\\[\\\\[0,69,\\\"pl-s\\\"\\\\]\\\\],\\\\[\\\\[0,3,\\\"pl-s\\\"\\\\]\\\\],\\\\[\\\\],\\\\[\\\\[0,6,\\\"pl-k\\\"\\\\],\\\\[7,9,\\\"pl-s1\\\"\\\\]\\\\],\\\\[\\\\[0,6,\\\"pl-k\\\"\\\\],\\\\[7,11,\\\"pl-s1\\\"\\\\]\\\\],\\\\[\\\\[0,6,\\\"pl-k\\\"\\\\],\\\\[7,11,\\\"pl-s1\\\"\\\\]\\\\],\\\\[\\\\],\\\\[\\\\[0,4,\\\"pl-k\\\"\\\\],\\\\[5,10,\\\"pl-s1\\\"\\\\],\\\\[11,13,\\\"pl-s1\\\"\\\\],\\\\[14,20,\\\"pl-s1\\\"\\\\],\\\\[21,27,\\\"pl-s1\\\"\\\\],\\\\[28,34,\\\"pl-k\\\"\\\\],\\\\[35,53,\\\"pl-v\\\"\\\\],\\\\[55,68,\\\"pl-v\\\"\\\\]\\\\],\\\\[\\\\[0,4,\\\"pl-k\\\"\\\\],\\\\[5,10,\\\"pl-s1\\\"\\\\],\\\\[11,13,\\\"pl-s1\\\"\\\\],\\\\[14,22,\\\"pl-s1\\\"\\\\],\\\\[23,29,\\\"pl-k\\\"\\\\],\\\\[30,45,\\\"pl-v\\\"\\\\]\\\\],\\\\[\\\\[0,4,\\\"pl-k\\\"\\\\],\\\\[5,10,\\\"pl-s1\\\"\\\\],\\\\[11,19,\\\"pl-s1\\\"\\\\],\\\\[20,26,\\\"pl-k\\\"\\\\],\\\\[27,49,\\\"pl-v\\\"\\\\]\\\\],\\\\[\\\\[0,4,\\\"pl-k\\\"\\\\],\\\\[5,10,\\\"pl-s1\\\"\\\\],\\\\[11,13,\\\"pl-s1\\\"\\\\],\\\\[14,20,\\\"pl-s1\\\"\\\\],\\\\[21,27,\\\"pl-s1\\\"\\\\],\\\\[28,34,\\\"pl-k\\\"\\\\],\\\\[35,42,\\\"pl-v\\\"\\\\],\\\\[44,63,\\\"pl-v\\\"\\\\],\\\\[65,89,\\\"pl-v\\\"\\\\],\\\\[91,103,\\\"pl-v\\\"\\\\]\\\\],\\\\[\\\\[0,4,\\\"pl-k\\\"\\\\],\\\\[5,11,\\\"pl-s1\\\"\\\\],\\\\[12,18,\\\"pl-k\\\"\\\\],\\\\[19,30,\\\"pl-s1\\\"\\\\]\\\\],\\\\[\\\\],\\\\[\\\\[0,11,\\\"pl-en\\\"\\\\]\\\\],\\\\[\\\\],\\\\[\\\\[0,14,\\\"pl-s1\\\"\\\\],\\\\[15,16,\\\"pl-c1\\\"\\\\],\\\\[17,32,\\\"pl-en\\\"\\\\]\\\\],\\\\[\\\\[4,12,\\\"pl-s1\\\"\\\\],\\\\[12,13,\\\"pl-c1\\\"\\\\],\\\\[13,15,\\\"pl-s1\\\"\\\\],\\\\[16,23,\\\"pl-c1\\\"\\\\],\\\\[24,42,\\\"pl-s\\\"\\\\]\\\\],\\\\[\\\\[4,14,\\\"pl-s1\\\"\\\\],\\\\[14,15,\\\"pl-c1\\\"\\\\],\\\\[15,37,\\\"pl-en\\\"\\\\]\\\\],\\\\[\\\\],\\\\[\\\\],\\\\[\\\\[0,36,\\\"pl-c\\\"\\\\]\\\\],\\\\[\\\\[0,27,\\\"pl-c\\\"\\\\]\\\\],\\\\[\\\\[0,8,\\\"pl-s1\\\"\\\\],\\\\[9,10,\\\"pl-c1\\\"\\\\],\\\\[11,18,\\\"pl-en\\\"\\\\]\\\\],\\\\[\\\\[4,16,\\\"pl-s1\\\"\\\\],\\\\[16,17,\\\"pl-c1\\\"\\\\],\\\\[17,26,\\\"pl-s\\\"\\\\]\\\\],\\\\[\\\\[4,14,\\\"pl-s1\\\"\\\\],\\\\[14,15,\\\"pl-c1\\\"\\\\],\\\\[15,17,\\\"pl-s1\\\"\\\\],\\\\[18,25,\\\"pl-c1\\\"\\\\],\\\\[26,50,\\\"pl-s\\\"\\\\]\\\\],\\\\[\\\\],\\\\[\\\\],\\\\[\\\\[0,50,\\\"pl-c\\\"\\\\]\\\\],\\\\[\\\\[0,4,\\\"pl-k\\\"\\\\],\\\\[5,19,\\\"pl-s1\\\"\\\\]\\\\],\\\\[\\\\[4,17,\\\"pl-s1\\\"\\\\],\\\\[18,19,\\\"pl-c1\\\"\\\\],\\\\[20,34,\\\"pl-s1\\\"\\\\],\\\\[35,41,\\\"pl-c1\\\"\\\\]\\\\],\\\\[\\\\],\\\\[\\\\[4,25,\\\"pl-c\\\"\\\\]\\\\],\\\\[\\\\[4,70,\\\"pl-c\\\"\\\\]\\\\],\\\\[\\\\[4,9,\\\"pl-s1\\\"\\\\],\\\\[10,11,\\\"pl-c1\\\"\\\\],\\\\[12,25,\\\"pl-s1\\\"\\\\],\\\\[26,38,\\\"pl-c1\\\"\\\\]\\\\],\\\\[\\\\[8,13,\\\"pl-s1\\\"\\\\],\\\\[13,14,\\\"pl-c1\\\"\\\\],\\\\[14,16,\\\"pl-s1\\\"\\\\],\\\\[17,24,\\\"pl-c1\\\"\\\\],\\\\[25,48,\\\"pl-s\\\"\\\\]\\\\],\\\\[\\\\[8,12,\\\"pl-s1\\\"\\\\],\\\\[12,13,\\\"pl-c1\\\"\\\\],\\\\[13,35,\\\"pl-s\\\"\\\\]\\\\],\\\\[\\\\[8,20,\\\"pl-s1\\\"\\\\],\\\\[20,21,\\\"pl-c1\\\"\\\\],\\\\[21,153,\\\"pl-s\\\"\\\\]\\\\],\\\\[\\\\[8,13,\\\"pl-s1\\\"\\\\],\\\\[13,14,\\\"pl-c1\\\"\\\\],\\\\[14,22,\\\"pl-s1\\\"\\\\],\\\\[23,34,\\\"pl-c1\\\"\\\\]\\\\],\\\\[\\\\],\\\\[\\\\[4,38,\\\"pl-c\\\"\\\\]\\\\],\\\\[\\\\],\\\\[\\\\[4,9,\\\"pl-en\\\"\\\\],\\\\[10,42,\\\"pl-s\\\"\\\\],\\\\[31,41,\\\"pl-s1\\\"\\\\],\\\\[31,32,\\\"pl-kos\\\"\\\\],\\\\[32,37,\\\"pl-s1\\\"\\\\],\\\\[38,40,\\\"pl-c1\\\"\\\\],\\\\[40,41,\\\"pl-kos\\\"\\\\]\\\\],\\\\[\\\\[4,9,\\\"pl-en\\\"\\\\],\\\\[10,73,\\\"pl-s\\\"\\\\],\\\\[24,47,\\\"pl-s1\\\"\\\\],\\\\[24,25,\\\"pl-kos\\\"\\\\],\\\\[25,33,\\\"pl-s1\\\"\\\\],\\\\[34,46,\\\"pl-c1\\\"\\\\],\\\\[46,47,\\\"pl-kos\\\"\\\\],\\\\[51,72,\\\"pl-s1\\\"\\\\],\\\\[51,52,\\\"pl-kos\\\"\\\\],\\\\[52,60,\\\"pl-s1\\\"\\\\],\\\\[61,71,\\\"pl-c1\\\"\\\\],\\\\[71,72,\\\"pl-kos\\\"\\\\]\\\\],\\\\[\\\\],\\\\[\\\\[4,37,\\\"pl-c\\\"\\\\]\\\\],\\\\[\\\\[4,10,\\\"pl-s1\\\"\\\\],\\\\[11,12,\\\"pl-c1\\\"\\\\],\\\\[13,26,\\\"pl-s1\\\"\\\\],\\\\[27,34,\\\"pl-c1\\\"\\\\],\\\\[35,41,\\\"pl-c1\\\"\\\\]\\\\],\\\\[\\\\[4,9,\\\"pl-en\\\"\\\\],\\\\[10,44,\\\"pl-s\\\"\\\\],\\\\[32,43,\\\"pl-s1\\\"\\\\],\\\\[32,33,\\\"pl-kos\\\"\\\\],\\\\[33,39,\\\"pl-s1\\\"\\\\],\\\\[40,42,\\\"pl-c1\\\"\\\\],\\\\[42,43,\\\"pl-kos\\\"\\\\]\\\\],\\\\[\\\\],\\\\[\\\\[4,30,\\\"pl-c\\\"\\\\]\\\\],\\\\[\\\\[4,11,\\\"pl-s1\\\"\\\\],\\\\[12,13,\\\"pl-c1\\\"\\\\],\\\\[14,27,\\\"pl-s1\\\"\\\\],\\\\[28,36,\\\"pl-c1\\\"\\\\],\\\\[37,43,\\\"pl-c1\\\"\\\\]\\\\],\\\\[\\\\[8,17,\\\"pl-s1\\\"\\\\],\\\\[17,18,\\\"pl-c1\\\"\\\\],\\\\[18,24,\\\"pl-s1\\\"\\\\],\\\\[25,27,\\\"pl-c1\\\"\\\\]\\\\],\\\\[\\\\[8,12,\\\"pl-s1\\\"\\\\],\\\\[12,13,\\\"pl-c1\\\"\\\\],\\\\[13,19,\\\"pl-s\\\"\\\\]\\\\],\\\\[\\\\[8,15,\\\"pl-s1\\\"\\\\],\\\\[15,16,\\\"pl-c1\\\"\\\\],\\\\[16,54,\\\"pl-s\\\"\\\\]\\\\],\\\\[\\\\],\\\\[\\\\[4,9,\\\"pl-en\\\"\\\\],\\\\[10,46,\\\"pl-s\\\"\\\\],\\\\[33,45,\\\"pl-s1\\\"\\\\],\\\\[33,34,\\\"pl-kos\\\"\\\\],\\\\[34,41,\\\"pl-s1\\\"\\\\],\\\\[42,44,\\\"pl-c1\\\"\\\\],\\\\[44,45,\\\"pl-kos\\\"\\\\]\\\\],\\\\[\\\\],\\\\[\\\\[4,35,\\\"pl-c\\\"\\\\]\\\\],\\\\[\\\\[4,12,\\\"pl-s1\\\"\\\\],\\\\[13,30,\\\"pl-c1\\\"\\\\],\\\\[31,38,\\\"pl-s\\\"\\\\]\\\\],\\\\[\\\\[4,7,\\\"pl-s1\\\"\\\\],\\\\[8,9,\\\"pl-c1\\\"\\\\],\\\\[10,23,\\\"pl-s1\\\"\\\\],\\\\[24,28,\\\"pl-c1\\\"\\\\],\\\\[29,35,\\\"pl-c1\\\"\\\\],\\\\[36,45,\\\"pl-s1\\\"\\\\],\\\\[45,46,\\\"pl-c1\\\"\\\\],\\\\[46,52,\\\"pl-s1\\\"\\\\],\\\\[53,55,\\\"pl-c1\\\"\\\\],\\\\[57,65,\\\"pl-s1\\\"\\\\],\\\\[65,66,\\\"pl-c1\\\"\\\\],\\\\[66,71,\\\"pl-s1\\\"\\\\],\\\\[72,74,\\\"pl-c1\\\"\\\\],\\\\[76,90,\\\"pl-s1\\\"\\\\],\\\\[90,91,\\\"pl-c1\\\"\\\\],\\\\[91,99,\\\"pl-s1\\\"\\\\],\\\\[100,109,\\\"pl-c1\\\"\\\\]\\\\],\\\\[\\\\[4,9,\\\"pl-en\\\"\\\\],\\\\[10,38,\\\"pl-s\\\"\\\\],\\\\[29,37,\\\"pl-s1\\\"\\\\],\\\\[29,30,\\\"pl-kos\\\"\\\\],\\\\[30,33,\\\"pl-s1\\\"\\\\],\\\\[34,36,\\\"pl-c1\\\"\\\\],\\\\[36,37,\\\"pl-kos\\\"\\\\]\\\\],\\\\[\\\\],\\\\[\\\\[4,9,\\\"pl-k\\\"\\\\],\\\\[10,13,\\\"pl-s1\\\"\\\\],\\\\[14,20,\\\"pl-c1\\\"\\\\],\\\\[21,23,\\\"pl-c1\\\"\\\\],\\\\[25,33,\\\"pl-s\\\"\\\\],\\\\[35,48,\\\"pl-s\\\"\\\\],\\\\[50,67,\\\"pl-s\\\"\\\\]\\\\],\\\\[\\\\[8,12,\\\"pl-s1\\\"\\\\],\\\\[13,18,\\\"pl-c1\\\"\\\\],\\\\[19,20,\\\"pl-c1\\\"\\\\]\\\\],\\\\[\\\\[8,11,\\\"pl-s1\\\"\\\\],\\\\[12,13,\\\"pl-c1\\\"\\\\],\\\\[14,27,\\\"pl-s1\\\"\\\\],\\\\[28,32,\\\"pl-c1\\\"\\\\],\\\\[33,36,\\\"pl-c1\\\"\\\\],\\\\[37,46,\\\"pl-s1\\\"\\\\],\\\\[46,47,\\\"pl-c1\\\"\\\\],\\\\[47,53,\\\"pl-s1\\\"\\\\],\\\\[54,56,\\\"pl-c1\\\"\\\\],\\\\[58,64,\\\"pl-s1\\\"\\\\],\\\\[64,65,\\\"pl-c1\\\"\\\\],\\\\[65,68,\\\"pl-s1\\\"\\\\],\\\\[69,71,\\\"pl-c1\\\"\\\\]\\\\],\\\\[\\\\],\\\\[\\\\[8,10,\\\"pl-k\\\"\\\\],\\\\[11,14,\\\"pl-s1\\\"\\\\],\\\\[15,21,\\\"pl-c1\\\"\\\\],\\\\[22,24,\\\"pl-c1\\\"\\\\],\\\\[25,42,\\\"pl-s\\\"\\\\],\\\\[43,46,\\\"pl-c1\\\"\\\\],\\\\[47,57,\\\"pl-en\\\"\\\\],\\\\[58,61,\\\"pl-s1\\\"\\\\],\\\\[62,77,\\\"pl-c1\\\"\\\\],\\\\[79,103,\\\"pl-v\\\"\\\\]\\\\],\\\\[\\\\[12,22,\\\"pl-s1\\\"\\\\],\\\\[23,24,\\\"pl-c1\\\"\\\\],\\\\[25,28,\\\"pl-s1\\\"\\\\],\\\\[29,44,\\\"pl-c1\\\"\\\\],\\\\[45,65,\\\"pl-c1\\\"\\\\],\\\\[66,76,\\\"pl-c1\\\"\\\\]\\\\],\\\\[\\\\[12,14,\\\"pl-k\\\"\\\\],\\\\[15,18,\\\"pl-c1\\\"\\\\],\\\\[19,29,\\\"pl-s1\\\"\\\\]\\\\],\\\\[\\\\[16,21,\\\"pl-en\\\"\\\\],\\\\[22,63,\\\"pl-s\\\"\\\\]\\\\],\\\\[\\\\[16,29,\\\"pl-s1\\\"\\\\],\\\\[30,34,\\\"pl-c1\\\"\\\\],\\\\[35,41,\\\"pl-c1\\\"\\\\],\\\\[42,51,\\\"pl-s1\\\"\\\\],\\\\[51,52,\\\"pl-c1\\\"\\\\],\\\\[52,58,\\\"pl-s1\\\"\\\\],\\\\[59,61,\\\"pl-c1\\\"\\\\],\\\\[63,69,\\\"pl-s1\\\"\\\\],\\\\[69,70,\\\"pl-c1\\\"\\\\],\\\\[70,73,\\\"pl-s1\\\"\\\\],\\\\[74,76,\\\"pl-c1\\\"\\\\]\\\\],\\\\[\\\\[16,21,\\\"pl-k\\\"\\\\]\\\\],\\\\[\\\\],\\\\[\\\\[8,13,\\\"pl-en\\\"\\\\],\\\\[14,49,\\\"pl-s\\\"\\\\],\\\\[36,48,\\\"pl-s1\\\"\\\\],\\\\[36,37,\\\"pl-kos\\\"\\\\],\\\\[37,40,\\\"pl-s1\\\"\\\\],\\\\[41,47,\\\"pl-c1\\\"\\\\],\\\\[47,48,\\\"pl-kos\\\"\\\\]\\\\],\\\\[\\\\[8,37,\\\"pl-c\\\"\\\\]\\\\],\\\\[\\\\],\\\\[\\\\[4,9,\\\"pl-en\\\"\\\\],\\\\[10,52,\\\"pl-s\\\"\\\\],\\\\[39,51,\\\"pl-s1\\\"\\\\],\\\\[39,40,\\\"pl-kos\\\"\\\\],\\\\[40,43,\\\"pl-s1\\\"\\\\],\\\\[44,50,\\\"pl-c1\\\"\\\\],\\\\[50,51,\\\"pl-kos\\\"\\\\]\\\\],\\\\[\\\\[4,6,\\\"pl-k\\\"\\\\],\\\\[7,10,\\\"pl-s1\\\"\\\\],\\\\[11,17,\\\"pl-c1\\\"\\\\],\\\\[18,20,\\\"pl-c1\\\"\\\\],\\\\[21,29,\\\"pl-s\\\"\\\\]\\\\],\\\\[\\\\[8,13,\\\"pl-en\\\"\\\\],\\\\[14,45,\\\"pl-s\\\"\\\\],\\\\[28,44,\\\"pl-s1\\\"\\\\],\\\\[28,29,\\\"pl-kos\\\"\\\\],\\\\[29,32,\\\"pl-s1\\\"\\\\],\\\\[33,43,\\\"pl-c1\\\"\\\\],\\\\[43,44,\\\"pl-kos\\\"\\\\]\\\\],\\\\[\\\\],\\\\[\\\\[4,38,\\\"pl-c\\\"\\\\]\\\\],\\\\[\\\\[4,13,\\\"pl-s1\\\"\\\\],\\\\[14,15,\\\"pl-c1\\\"\\\\],\\\\[16,29,\\\"pl-s1\\\"\\\\],\\\\[30,39,\\\"pl-c1\\\"\\\\],\\\\[40,44,\\\"pl-c1\\\"\\\\],\\\\[45,54,\\\"pl-s1\\\"\\\\],\\\\[54,55,\\\"pl-c1\\\"\\\\],\\\\[55,61,\\\"pl-s1\\\"\\\\],\\\\[62,64,\\\"pl-c1\\\"\\\\],\\\\[66,72,\\\"pl-s1\\\"\\\\],\\\\[72,73,\\\"pl-c1\\\"\\\\],\\\\[73,76,\\\"pl-s1\\\"\\\\],\\\\[77,79,\\\"pl-c1\\\"\\\\]\\\\],\\\\[\\\\],\\\\[\\\\[4,28,\\\"pl-c\\\"\\\\]\\\\],\\\\[\\\\[4,7,\\\"pl-k\\\"\\\\],\\\\[8,12,\\\"pl-s1\\\"\\\\],\\\\[13,15,\\\"pl-c1\\\"\\\\],\\\\[16,25,\\\"pl-s1\\\"\\\\]\\\\],\\\\[\\\\[8,13,\\\"pl-en\\\"\\\\],\\\\[14,59,\\\"pl-s\\\"\\\\],\\\\[21,33,\\\"pl-s1\\\"\\\\],\\\\[21,22,\\\"pl-kos\\\"\\\\],\\\\[22,26,\\\"pl-s1\\\"\\\\],\\\\[27,31,\\\"pl-s\\\"\\\\],\\\\[32,33,\\\"pl-kos\\\"\\\\],\\\\[42,58,\\\"pl-s1\\\"\\\\],\\\\[42,43,\\\"pl-kos\\\"\\\\],\\\\[43,47,\\\"pl-s1\\\"\\\\],\\\\[48,56,\\\"pl-s\\\"\\\\],\\\\[57,58,\\\"pl-kos\\\"\\\\]\\\\],\\\\[\\\\],\\\\[\\\\[8,59,\\\"pl-c\\\"\\\\]\\\\],\\\\[\\\\[8,20,\\\"pl-s1\\\"\\\\],\\\\[21,22,\\\"pl-c1\\\"\\\\],\\\\[23,27,\\\"pl-s1\\\"\\\\],\\\\[28,31,\\\"pl-c1\\\"\\\\],\\\\[32,46,\\\"pl-s\\\"\\\\]\\\\],\\\\[\\\\[8,18,\\\"pl-s1\\\"\\\\],\\\\[19,20,\\\"pl-c1\\\"\\\\],\\\\[21,33,\\\"pl-s1\\\"\\\\],\\\\[34,37,\\\"pl-c1\\\"\\\\],\\\\[38,50,\\\"pl-s\\\"\\\\]\\\\],\\\\[\\\\],\\\\[\\\\[8,10,\\\"pl-k\\\"\\\\],\\\\[11,21,\\\"pl-s1\\\"\\\\]\\\\],\\\\[\\\\[12,17,\\\"pl-en\\\"\\\\],\\\\[18,37,\\\"pl-s\\\"\\\\]\\\\],\\\\[\\\\[12,15,\\\"pl-k\\\"\\\\],\\\\[16,20,\\\"pl-s1\\\"\\\\],\\\\[21,23,\\\"pl-c1\\\"\\\\],\\\\[24,34,\\\"pl-s1\\\"\\\\]\\\\],\\\\[\\\\[16,21,\\\"pl-en\\\"\\\\],\\\\[22,59,\\\"pl-s\\\"\\\\],\\\\[42,58,\\\"pl-s1\\\"\\\\],\\\\[42,43,\\\"pl-kos\\\"\\\\],\\\\[43,47,\\\"pl-s1\\\"\\\\],\\\\[48,51,\\\"pl-c1\\\"\\\\],\\\\[52,56,\\\"pl-s\\\"\\\\],\\\\[57,58,\\\"pl-kos\\\"\\\\]\\\\],\\\\[\\\\[16,21,\\\"pl-en\\\"\\\\],\\\\[22,53,\\\"pl-s\\\"\\\\],\\\\[34,52,\\\"pl-s1\\\"\\\\],\\\\[34,35,\\\"pl-kos\\\"\\\\],\\\\[35,39,\\\"pl-s1\\\"\\\\],\\\\[40,43,\\\"pl-c1\\\"\\\\],\\\\[44,50,\\\"pl-s\\\"\\\\],\\\\[51,52,\\\"pl-kos\\\"\\\\]\\\\],\\\\[\\\\],\\\\[\\\\[8,13,\\\"pl-en\\\"\\\\],\\\\[17,53,\\\"pl-c\\\"\\\\]\\\\],\\\\[\\\\],\\\\[\\\\[4,32,\\\"pl-c\\\"\\\\]\\\\],\\\\[\\\\[4,12,\\\"pl-s1\\\"\\\\],\\\\[13,14,\\\"pl-c1\\\"\\\\],\\\\[15,28,\\\"pl-s1\\\"\\\\],\\\\[29,37,\\\"pl-c1\\\"\\\\],\\\\[38,42,\\\"pl-c1\\\"\\\\],\\\\[43,52,\\\"pl-s1\\\"\\\\],\\\\[52,53,\\\"pl-c1\\\"\\\\],\\\\[53,59,\\\"pl-s1\\\"\\\\],\\\\[60,62,\\\"pl-c1\\\"\\\\]\\\\],\\\\[\\\\[4,9,\\\"pl-en\\\"\\\\],\\\\[10,27,\\\"pl-s\\\"\\\\],\\\\[11,13,\\\"pl-cce\\\"\\\\]\\\\],\\\\[\\\\[4,9,\\\"pl-en\\\"\\\\],\\\\[10,13,\\\"pl-s\\\"\\\\],\\\\[14,15,\\\"pl-c1\\\"\\\\],\\\\[16,18,\\\"pl-c1\\\"\\\\]\\\\],\\\\[\\\\[4,7,\\\"pl-k\\\"\\\\],\\\\[8,11,\\\"pl-s1\\\"\\\\],\\\\[12,14,\\\"pl-c1\\\"\\\\],\\\\[15,23,\\\"pl-s1\\\"\\\\]\\\\],\\\\[\\\\[8,10,\\\"pl-k\\\"\\\\],\\\\[11,14,\\\"pl-s1\\\"\\\\],\\\\[15,28,\\\"pl-c1\\\"\\\\]\\\\],\\\\[\\\\[12,21,\\\"pl-s1\\\"\\\\],\\\\[22,23,\\\"pl-c1\\\"\\\\],\\\\[24,27,\\\"pl-s1\\\"\\\\],\\\\[28,41,\\\"pl-c1\\\"\\\\],\\\\[42,43,\\\"pl-c1\\\"\\\\],\\\\[43,44,\\\"pl-c1\\\"\\\\]\\\\],\\\\[\\\\[12,17,\\\"pl-en\\\"\\\\],\\\\[18,63,\\\"pl-s\\\"\\\\],\\\\[20,38,\\\"pl-s1\\\"\\\\],\\\\[20,21,\\\"pl-kos\\\"\\\\],\\\\[21,24,\\\"pl-s1\\\"\\\\],\\\\[25,29,\\\"pl-c1\\\"\\\\],\\\\[30,35,\\\"pl-c1\\\"\\\\],\\\\[37,38,\\\"pl-kos\\\"\\\\],\\\\[40,62,\\\"pl-s1\\\"\\\\],\\\\[40,41,\\\"pl-kos\\\"\\\\],\\\\[41,50,\\\"pl-s1\\\"\\\\],\\\\[51,55,\\\"pl-c1\\\"\\\\],\\\\[56,61,\\\"pl-c1\\\"\\\\],\\\\[61,62,\\\"pl-kos\\\"\\\\]\\\\],\\\\[\\\\[12,17,\\\"pl-en\\\"\\\\],\\\\[18,21,\\\"pl-s\\\"\\\\],\\\\[22,23,\\\"pl-c1\\\"\\\\],\\\\[24,26,\\\"pl-c1\\\"\\\\]\\\\],\\\\[\\\\],\\\\[\\\\[4,40,\\\"pl-c\\\"\\\\]\\\\],\\\\[\\\\[4,9,\\\"pl-en\\\"\\\\],\\\\[10,53,\\\"pl-s\\\"\\\\],\\\\[12,14,\\\"pl-cce\\\"\\\\]\\\\],\\\\[\\\\[4,9,\\\"pl-en\\\"\\\\],\\\\[10,60,\\\"pl-s\\\"\\\\],\\\\[35,59,\\\"pl-s1\\\"\\\\],\\\\[35,36,\\\"pl-kos\\\"\\\\],\\\\[36,44,\\\"pl-s1\\\"\\\\],\\\\[45,58,\\\"pl-c1\\\"\\\\],\\\\[58,59,\\\"pl-kos\\\"\\\\]\\\\],\\\\[\\\\],\\\\[\\\\[4,17,\\\"pl-s1\\\"\\\\],\\\\[18,30,\\\"pl-c1\\\"\\\\],\\\\[31,36,\\\"pl-s1\\\"\\\\],\\\\[37,39,\\\"pl-c1\\\"\\\\]\\\\],\\\\[\\\\[4,9,\\\"pl-en\\\"\\\\],\\\\[10,25,\\\"pl-s\\\"\\\\]\\\\]\\\\],\\\"colorizedLines\\\":null,\\\"csv\\\":null,\\\"csvError\\\":null,\\\"copilotSWEAgentEnabled\\\":false,\\\"dependabotInfo\\\":{\\\"showConfigurationBanner\\\":false,\\\"configFilePath\\\":null,\\\"networkDependabotPath\\\":\\\"/Azure-Samples/ai-foundry-agents-samples/network/updates\\\",\\\"dismissConfigurationNoticePath\\\":\\\"/settings/dismiss-notice/dependabot\\\\_configuration\\\\_notice\\\",\\\"configurationNoticeDismissed\\\":null},\\\"displayName\\\":\\\"sample\\\\_agents\\\\_mcp.py\\\",\\\"displayUrl\\\":\\\"https://github.com/Azure-Samples/ai-foundry-agents-samples/blob/6245ef8407c79333d66ac5c0c23950dea9e12b2c/examples/mcp/streamable-http/ai-foundry-agent/sample\\\\_agents\\\\_mcp.py?raw=true\\\",\\\"headerInfo\\\":{\\\"blobSize\\\":\\\"4.62 KB\\\",\\\"deleteTooltip\\\":\\\"You must be signed in to make or propose changes\\\",\\\"editTooltip\\\":\\\"You must be signed in to make or propose changes\\\",\\\"ghDesktopPath\\\":null,\\\"isGitLfs\\\":false,\\\"onBranch\\\":false,\\\"shortPath\\\":\\\"67f14aa\\\",\\\"siteNavLoginPath\\\":\\\"/login?return\\\\_to=https%3A%2F%2Fgithub.com%2FAzure-Samples%2Fai-foundry-agents-samples%2Fblob%2F6245ef8407c79333d66ac5c0c23950dea9e12b2c%2Fexamples%2Fmcp%2Fstreamable-http%2Fai-foundry-agent%2Fsample\\\\_agents\\\\_mcp.py\\\",\\\"isCSV\\\":false,\\\"isRichtext\\\":false,\\\"toc\\\":null,\\\"lineInfo\\\":{\\\"truncatedLoc\\\":\\\"132\\\",\\\"truncatedSloc\\\":\\\"106\\\"},\\\"mode\\\":\\\"file\\\"},\\\"image\\\":false,\\\"isCodeownersFile\\\":null,\\\"isPlain\\\":false,\\\"isValidLegacyIssueTemplate\\\":false,\\\"issueTemplate\\\":null,\\\"discussionTemplate\\\":null,\\\"language\\\":\\\"Python\\\",\\\"languageID\\\":303,\\\"large\\\":false,\\\"planSupportInfo\\\":{\\\"repoIsFork\\\":null,\\\"repoOwnedByCurrentUser\\\":null,\\\"requestFullPath\\\":\\\"/Azure-Samples/ai-foundry-agents-samples/blob/6245ef8407c79333d66ac5c0c23950dea9e12b2c/examples/mcp/streamable-http/ai-foundry-agent/sample\\\\_agents\\\\_mcp.py\\\",\\\"showFreeOrgGatedFeatureMessage\\\":null,\\\"showPlanSupportBanner\\\":null,\\\"upgradeDataAttributes\\\":null,\\\"upgradePath\\\":null},\\\"publishBannersInfo\\\":{\\\"dismissActionNoticePath\\\":\\\"/settings/dismiss-notice/publish\\\\_action\\\\_from\\\\_dockerfile\\\",\\\"releasePath\\\":\\\"/Azure-Samples/ai-foundry-agents-samples/releases/new?marketplace=true\\\",\\\"showPublishActionBanner\\\":false},\\\"rawBlobUrl\\\":\\\"https://github.com/Azure-Samples/ai-foundry-agents-samples/raw/6245ef8407c79333d66ac5c0c23950dea9e12b2c/examples/mcp/streamable-http/ai-foundry-agent/sample\\\\_agents\\\\_mcp.py\\\",\\\"renderImageOrRaw\\\":false,\\\"richText\\\":null,\\\"renderedFileInfo\\\":null,\\\"shortPath\\\":null,\\\"symbolsEnabled\\\":true,\\\"tabSize\\\":4,\\\"topBannersInfo\\\":{\\\"overridingGlobalFundingFile\\\":false,\\\"globalPreferredFundingPath\\\":null,\\\"showInvalidCitationWarning\\\":false,\\\"citationHelpUrl\\\":\\\"https://docs.github.com/github/creating-cloning-and-archiving-repositories/creating-a-repository-on-github/about-citation-files\\\",\\\"actionsOnboardingTip\\\":null},\\\"truncated\\\":false,\\\"viewable\\\":true,\\\"workflowRedirectUrl\\\":null,\\\"symbols\\\":{\\\"timed\\\\_out\\\":false,\\\"not\\\\_analyzed\\\":false,\\\"symbols\\\":\\\\[{\\\"name\\\":\\\"project\\\\_client\\\",\\\"kind\\\":\\\"constant\\\",\\\"ident\\\\_start\\\":1136,\\\"ident\\\\_end\\\":1150,\\\"extent\\\\_start\\\":1136,\\\"extent\\\\_end\\\":1256,\\\"fully\\\\_qualified\\\\_name\\\":\\\"project\\\\_client\\\",\\\"ident\\\\_utf16\\\":{\\\"start\\\":{\\\"line\\\\_number\\\":33,\\\"utf16\\\\_col\\\":0},\\\"end\\\":{\\\"line\\\\_number\\\":33,\\\"utf16\\\\_col\\\":14}},\\\"extent\\\\_utf16\\\":{\\\"start\\\":{\\\"line\\\\_number\\\":33,\\\"utf16\\\\_col\\\":0},\\\"end\\\":{\\\"line\\\\_number\\\":36,\\\"utf16\\\\_col\\\":1}}},{\\\"name\\\":\\\"mcp\\\\_tool\\\",\\\"kind\\\":\\\"constant\\\",\\\"ident\\\\_start\\\":1323,\\\"ident\\\\_end\\\":1331,\\\"extent\\\\_start\\\":1323,\\\"extent\\\\_end\\\":1424,\\\"fully\\\\_qualified\\\\_name\\\":\\\"mcp\\\\_tool\\\",\\\"ident\\\\_utf16\\\":{\\\"start\\\":{\\\"line\\\\_number\\\":40,\\\"utf16\\\\_col\\\":0},\\\"end\\\":{\\\"line\\\\_number\\\":40,\\\"utf16\\\\_col\\\":8}},\\\"extent\\\\_utf16\\\":{\\\"start\\\":{\\\"line\\\\_number\\\":40,\\\"utf16\\\\_col\\\":0},\\\"end\\\":{\\\"line\\\\_number\\\":43,\\\"utf16\\\\_col\\\":1}}}\\\\]}},\\\"copilotInfo\\\":null,\\\"copilotAccessAllowed\\\":false,\\\"modelsAccessAllowed\\\":false,\\\"modelsRepoIntegrationEnabled\\\":false,\\\"isMarketplaceEnabled\\\":true,\\\"csrf\\\\_tokens\\\":{\\\"/Azure-Samples/ai-foundry-agents-samples/branches\\\":{\\\"post\\\":\\\"nDM0Y14Y-\\\\_SyEjEHzDIVm5ueFDC7yWUTAj1OPWFoIOcLEP2PKWhQoXR50azeeKumYASVzFd2f1\\\\_5e0z6zYWgyw\\\"},\\\"/repos/preferences\\\":{\\\"post\\\":\\\"j5GWtI-kY5NpwXpM6XIRXLDtjRMtzbaZUGUzI1zdc0sHdYmvPsSKc9G5NTtTjNu7xTEGy7IHM\\\\_G2hFIh4V93Ew\\\"}}},\\\"title\\\":\\\"ai-foundry-agents-samples/examples/mcp/streamable-http/ai-foundry-agent/sample\\\\_agents\\\\_mcp.py at 6245ef8407c79333d66ac5c0c23950dea9e12b2c \\u00b7 Azure-Samples/ai-foundry-agents-samples\\\",\\\"appPayload\\\":{\\\"helpUrl\\\":\\\"https://docs.github.com\\\",\\\"findFileWorkerPath\\\":\\\"/assets-cdn/worker/find-file-worker-9bd411a8e273.js\\\",\\\"findInFileWorkerPath\\\":\\\"/assets-cdn/worker/find-in-file-worker-410714137fc9.js\\\",\\\"githubDevUrl\\\":null,\\\"enabled\\\\_features\\\":{\\\"code\\\\_nav\\\\_ui\\\\_events\\\":false,\\\"react\\\\_blob\\\\_overlay\\\":false,\\\"accessible\\\\_code\\\\_button\\\":true}}}</script> <div data-target=\\\"react-app.reactRoot\\\"></div></turbo-frame>\\n## Footer\\n\\n&copy; 2025 GitHub, Inc.\\n### Footer navigation\\n\\n* [Terms](https://docs.github.com/site-policy/github-terms/github-terms-of-service)\\n* [Privacy](https://docs.github.com/site-policy/privacy-policies/github-privacy-statement)\\n* [Security](https://github.com/security)\\n* [Status](https://www.githubstatus.com/)\\n* [Docs](https://docs.github.com/)\\n* [Contact](https://support.github.com?tags=dotcom-footer)\\n* <cookie-consent-link><button>Manage cookies</button></cookie-consent-link>\\n* <cookie-consent-link><button>Do not share my personal information</button></cookie-consent-link> \\n\\nYou can\\u2019t perform that action at this time.\"\n",
      "}\n",
      "🔄 Run step: step_lhALiAXWqJNDFLzlxWCAR2uW, status: RunStepStatus.COMPLETED, type: RunStepType.TOOL_CALLS\n",
      "🛠️ Tool call details:\n",
      "{\n",
      "     \"id\": \"call_ky5PXUMZJdlqhGZMJQRzZ35r\",\n",
      "     \"type\": \"mcp\",\n",
      "     \"arguments\": \"{\\\"url\\\":\\\"https://github.com/Azure-Samples/ai-foundry-agents-samples/blob/6245ef8407c79333d66ac5c0c23950dea9e12b2c/examples/mcp/streamable-http/mcp-server/main.py\\\"}\",\n",
      "     \"name\": \"fetch_generic_url_content\",\n",
      "     \"server_label\": \"github\",\n",
      "     \"output\": \"[Skip to content](#start-of-content)  <link /> <link />     ## Navigation Menu\\n<button>Toggle navigation</button>\\n\\n[Sign in](/login?return_to=https%3A%2F%2Fgithub.com%2FAzure-Samples%2Fai-foundry-agents-samples%2Fblob%2F6245ef8407c79333d66ac5c0c23950dea9e12b2c%2Fexamples%2Fmcp%2Fstreamable-http%2Fmcp-server%2Fmain.py) \\n<react-partial-anchor><tool-tip>Appearance settings</tool-tip> <template><link /> <link /></template></react-partial-anchor>\\n\\n* <button>Platform</button>\\n\\n  * [GitHub Copilot\\nWrite better code with AI](https://github.com/features/copilot)\\n  * [GitHub Spark New\\nBuild and deploy intelligent apps](https://github.com/features/spark)\\n  * [GitHub Models New\\nManage and compare prompts](https://github.com/features/models)\\n  * [GitHub Advanced Security\\nFind and fix vulnerabilities](https://github.com/security/advanced-security)\\n  * [Actions\\nAutomate any workflow](https://github.com/features/actions)\\n\\n  * [Codespaces\\nInstant dev environments](https://github.com/features/codespaces)\\n  * [Issues\\nPlan and track work](https://github.com/features/issues)\\n  * [Code Review\\nManage code changes](https://github.com/features/code-review)\\n  * [Discussions\\nCollaborate outside of code](https://github.com/features/discussions)\\n  * [Code Search\\nFind more, search less](https://github.com/features/code-search)\\n\\nExplore\\n\\n  * [Why GitHub](https://github.com/why-github)\\n  * [Documentation](https://docs.github.com)\\n  * [GitHub Skills](https://skills.github.com)\\n  * [Blog](https://github.blog)\\n\\nIntegrations\\n\\n  * [GitHub Marketplace](https://github.com/marketplace)\\n  * [MCP Registry](https://github.com/mcp)\\n\\n[View all features](https://github.com/features)\\n* <button>Solutions</button>\\n\\nBy company size\\n\\n  * [Enterprises](https://github.com/enterprise)\\n  * [Small and medium teams](https://github.com/team)\\n  * [Startups](https://github.com/enterprise/startups)\\n  * [Nonprofits](/solutions/industry/nonprofits)\\n\\nBy use case\\n\\n  * [DevSecOps](/solutions/use-case/devsecops)\\n  * [DevOps](/solutions/use-case/devops)\\n  * [CI/CD](/solutions/use-case/ci-cd)\\n  * [View all use cases](/solutions/use-case)\\n\\nBy industry\\n\\n  * [Healthcare](/solutions/industry/healthcare)\\n  * [Financial services](/solutions/industry/financial-services)\\n  * [Manufacturing](/solutions/industry/manufacturing)\\n  * [Government](/solutions/industry/government)\\n  * [View all industries](/solutions/industry)\\n\\n[View all solutions](/solutions)\\n* <button>Resources</button>\\n\\nTopics\\n\\n  * [AI](/resources/articles/ai)\\n  * [DevOps](/resources/articles/devops)\\n  * [Security](/resources/articles/security)\\n  * [Software Development](/resources/articles/software-development)\\n  * [View all](/resources/articles)\\n\\nExplore\\n\\n  * [Learning Pathways](https://resources.github.com/learn/pathways)\\n  * [Events & Webinars](https://github.com/resources/events)\\n  * [Ebooks & Whitepapers](https://github.com/resources/whitepapers)\\n  * [Customer Stories](https://github.com/customer-stories)\\n  * [Partners](https://partner.github.com)\\n  * [Executive Insights](https://github.com/solutions/executive-insights)\\n* <button>Open Source</button>\\n\\n  * [GitHub Sponsors\\nFund open source developers](/sponsors)\\n\\n  * [The ReadME Project\\nGitHub community articles](https://github.com/readme)\\n\\nRepositories\\n\\n  * [Topics](https://github.com/topics)\\n  * [Trending](https://github.com/trending)\\n  * [Collections](https://github.com/collections)\\n* <button>Enterprise</button>\\n\\n  * [Enterprise platform\\nAI-powered developer platform](/enterprise)\\n\\nAvailable add-ons\\n\\n  * [GitHub Advanced Security\\nEnterprise-grade security features](https://github.com/security/advanced-security)\\n  * [Copilot for business\\nEnterprise-grade AI features](/features/copilot/copilot-business)\\n  * [Premium Support\\nEnterprise-grade 24/7 support](/premium-support)\\n* [Pricing](https://github.com/pricing)\\n\\n<qbsearch-input><button>Search or jump to...</button> \\n\\n<modal-dialog># Search code, repositories, users, issues, pull requests...\\n\\n[Search syntax tips](https://docs.github.com/search-github/github-code-search/understanding-github-code-search-syntax)</modal-dialog>\\n\\n<dialog-helper><dialog># Provide feedback\\n\\n\\n<button>Cancel</button> <button>Submit feedback</button></dialog></dialog-helper> <custom-scopes><dialog-helper><dialog># Saved searches\\n\\n## Use saved searches to filter your results more quickly\\n\\n\\n<button>Cancel</button> <button>Create saved search</button></dialog></dialog-helper></custom-scopes></qbsearch-input>\\n\\n[Sign in](/login?return_to=https%3A%2F%2Fgithub.com%2FAzure-Samples%2Fai-foundry-agents-samples%2Fblob%2F6245ef8407c79333d66ac5c0c23950dea9e12b2c%2Fexamples%2Fmcp%2Fstreamable-http%2Fmcp-server%2Fmain.py)\\n[Sign up](/signup?ref_cta=Sign+up&ref_loc=header+logged+out&ref_page=%2F%3Cuser-name%3E%2F%3Crepo-name%3E%2Fblob%2Fshow&source=header-repo&source_repo=Azure-Samples%2Fai-foundry-agents-samples) \\n<react-partial-anchor><tool-tip>Appearance settings</tool-tip> <template><link /> <link /></template></react-partial-anchor>\\n<button>Resetting focus</button>\\n\\nYou signed in with another tab or window. [Reload]() to refresh your session. You signed out in another tab or window. [Reload]() to refresh your session. You switched accounts on another tab or window. [Reload]() to refresh your session. <tool-tip>Dismiss alert</tool-tip>\\n\\n<template>{{ message }}</template>\\n\\n[Azure-Samples](/Azure-Samples) / **[ai-foundry-agents-samples](/Azure-Samples/ai-foundry-agents-samples)** Public\\n\\n* [Notifications](/login?return_to=%2FAzure-Samples%2Fai-foundry-agents-samples)<tool-tip>You must be signed in to change notification settings</tool-tip>\\n* [Fork 13](/login?return_to=%2FAzure-Samples%2Fai-foundry-agents-samples)\\n* [Star 20](/login?return_to=%2FAzure-Samples%2Fai-foundry-agents-samples)\\n* [Code](/Azure-Samples/ai-foundry-agents-samples)\\n* [Issues 2](/Azure-Samples/ai-foundry-agents-samples/issues)\\n* [Pull requests 0](/Azure-Samples/ai-foundry-agents-samples/pulls)\\n* [Actions](/Azure-Samples/ai-foundry-agents-samples/actions)\\n* [Projects 0](/Azure-Samples/ai-foundry-agents-samples/projects)\\n* [Security<include-fragment>### Uh oh!\\n\\nThere was an error while loading. [Please reload this page]().</include-fragment>](/Azure-Samples/ai-foundry-agents-samples/security)\\n* [Insights](/Azure-Samples/ai-foundry-agents-samples/pulse)\\n\\n<action-menu><focus-group><tool-tip>Additional navigation options</tool-tip> <anchored-position><action-list>* [Code](/Azure-Samples/ai-foundry-agents-samples)\\n* [Issues](/Azure-Samples/ai-foundry-agents-samples/issues)\\n* [Pull requests](/Azure-Samples/ai-foundry-agents-samples/pulls)\\n* [Actions](/Azure-Samples/ai-foundry-agents-samples/actions)\\n* [Projects](/Azure-Samples/ai-foundry-agents-samples/projects)\\n* [Security](/Azure-Samples/ai-foundry-agents-samples/security)\\n* [Insights](/Azure-Samples/ai-foundry-agents-samples/pulse)</action-list></anchored-position></focus-group></action-menu>\\n<turbo-frame><div id=\\\"repo-content-pjax-container\\\" class=\\\"repository-content \\\" > <react-app app-name=\\\"react-code-view\\\" initial-path=\\\"/Azure-Samples/ai-foundry-agents-samples/blob/6245ef8407c79333d66ac5c0c23950dea9e12b2c/examples/mcp/streamable-http/mcp-server/main.py\\\" style=\\\"display: block; min-height: calc(100vh - 64px);\\\" data-attempted-ssr=\\\"false\\\" data-ssr=\\\"false\\\" data-lazy=\\\"false\\\" data-alternate=\\\"false\\\" data-data-router-enabled=\\\"false\\\" data-react-profiling=\\\"false\\\" > <script type=\\\"application/json\\\" data-target=\\\"react-app.embeddedData\\\">{\\\"payload\\\":{\\\"allShortcutsEnabled\\\":false,\\\"fileTree\\\":{\\\"examples/mcp/streamable-http/mcp-server\\\":{\\\"items\\\":\\\\[{\\\"name\\\":\\\".python-version\\\",\\\"path\\\":\\\"examples/mcp/streamable-http/mcp-server/.python-version\\\",\\\"contentType\\\":\\\"file\\\"},{\\\"name\\\":\\\"Dockerfile\\\",\\\"path\\\":\\\"examples/mcp/streamable-http/mcp-server/Dockerfile\\\",\\\"contentType\\\":\\\"file\\\"},{\\\"name\\\":\\\"README.md\\\",\\\"path\\\":\\\"examples/mcp/streamable-http/mcp-server/README.md\\\",\\\"contentType\\\":\\\"file\\\"},{\\\"name\\\":\\\"main.py\\\",\\\"path\\\":\\\"examples/mcp/streamable-http/mcp-server/main.py\\\",\\\"contentType\\\":\\\"file\\\"},{\\\"name\\\":\\\"pyproject.toml\\\",\\\"path\\\":\\\"examples/mcp/streamable-http/mcp-server/pyproject.toml\\\",\\\"contentType\\\":\\\"file\\\"},{\\\"name\\\":\\\"uv.lock\\\",\\\"path\\\":\\\"examples/mcp/streamable-http/mcp-server/uv.lock\\\",\\\"contentType\\\":\\\"file\\\"},{\\\"name\\\":\\\"weather.py\\\",\\\"path\\\":\\\"examples/mcp/streamable-http/mcp-server/weather.py\\\",\\\"contentType\\\":\\\"file\\\"}\\\\],\\\"totalCount\\\":7},\\\"examples/mcp/streamable-http\\\":{\\\"items\\\":\\\\[{\\\"name\\\":\\\"ai-foundry-agent\\\",\\\"path\\\":\\\"examples/mcp/streamable-http/ai-foundry-agent\\\",\\\"contentType\\\":\\\"directory\\\"},{\\\"name\\\":\\\"apim-petstore-mcp\\\",\\\"path\\\":\\\"examples/mcp/streamable-http/apim-petstore-mcp\\\",\\\"contentType\\\":\\\"directory\\\"},{\\\"name\\\":\\\"mcp-client\\\",\\\"path\\\":\\\"examples/mcp/streamable-http/mcp-client\\\",\\\"contentType\\\":\\\"directory\\\"},{\\\"name\\\":\\\"mcp-server\\\",\\\"path\\\":\\\"examples/mcp/streamable-http/mcp-server\\\",\\\"contentType\\\":\\\"directory\\\"},{\\\"name\\\":\\\"README.md\\\",\\\"path\\\":\\\"examples/mcp/streamable-http/README.md\\\",\\\"contentType\\\":\\\"file\\\"}\\\\],\\\"totalCount\\\":5},\\\"examples/mcp\\\":{\\\"items\\\":\\\\[{\\\"name\\\":\\\"filesystem\\\\_example\\\",\\\"path\\\":\\\"examples/mcp/filesystem\\\\_example\\\",\\\"contentType\\\":\\\"directory\\\"},{\\\"name\\\":\\\"streamable-http\\\",\\\"path\\\":\\\"examples/mcp/streamable-http\\\",\\\"contentType\\\":\\\"directory\\\"}\\\\],\\\"totalCount\\\":2},\\\"examples\\\":{\\\"items\\\":\\\\[{\\\"name\\\":\\\"mcp\\\",\\\"path\\\":\\\"examples/mcp\\\",\\\"contentType\\\":\\\"directory\\\"}\\\\],\\\"totalCount\\\":1},\\\"\\\":{\\\"items\\\":\\\\[{\\\"name\\\":\\\".github\\\",\\\"path\\\":\\\".github\\\",\\\"contentType\\\":\\\"directory\\\"},{\\\"name\\\":\\\"examples\\\",\\\"path\\\":\\\"examples\\\",\\\"contentType\\\":\\\"directory\\\"},{\\\"name\\\":\\\".gitignore\\\",\\\"path\\\":\\\".gitignore\\\",\\\"contentType\\\":\\\"file\\\"},{\\\"name\\\":\\\"CHANGELOG.md\\\",\\\"path\\\":\\\"CHANGELOG.md\\\",\\\"contentType\\\":\\\"file\\\"},{\\\"name\\\":\\\"CONTRIBUTING.md\\\",\\\"path\\\":\\\"CONTRIBUTING.md\\\",\\\"contentType\\\":\\\"file\\\"},{\\\"name\\\":\\\"LICENSE.md\\\",\\\"path\\\":\\\"LICENSE.md\\\",\\\"contentType\\\":\\\"file\\\"},{\\\"name\\\":\\\"README.md\\\",\\\"path\\\":\\\"README.md\\\",\\\"contentType\\\":\\\"file\\\"}\\\\],\\\"totalCount\\\":7}},\\\"fileTreeProcessingTime\\\":23.692037,\\\"foldersToFetch\\\":\\\\[\\\\],\\\"incompleteFileTree\\\":false,\\\"repo\\\":{\\\"id\\\":969602866,\\\"defaultBranch\\\":\\\"main\\\",\\\"name\\\":\\\"ai-foundry-agents-samples\\\",\\\"ownerLogin\\\":\\\"Azure-Samples\\\",\\\"currentUserCanPush\\\":false,\\\"isFork\\\":false,\\\"isEmpty\\\":false,\\\"createdAt\\\":\\\"2025-04-20T14:26:25.000Z\\\",\\\"ownerAvatar\\\":\\\"https://avatars.githubusercontent.com/u/1844662?v=4\\\",\\\"public\\\":true,\\\"private\\\":false,\\\"isOrgOwned\\\":true},\\\"codeLineWrapEnabled\\\":false,\\\"symbolsExpanded\\\":false,\\\"treeExpanded\\\":true,\\\"refInfo\\\":{\\\"name\\\":\\\"6245ef8407c79333d66ac5c0c23950dea9e12b2c\\\",\\\"listCacheKey\\\":\\\"v0:1745159186.0\\\",\\\"canEdit\\\":false,\\\"refType\\\":\\\"tree\\\",\\\"currentOid\\\":\\\"6245ef8407c79333d66ac5c0c23950dea9e12b2c\\\",\\\"canEditOnDefaultBranch\\\":false,\\\"fileExistsOnDefault\\\":true},\\\"path\\\":\\\"examples/mcp/streamable-http/mcp-server/main.py\\\",\\\"currentUser\\\":null,\\\"blob\\\":{\\\"rawLines\\\":\\\\[\\\"def main():\\\",\\\" print(\\\\\\\\\\\"Hello from mcp-server!\\\\\\\\\\\")\\\",\\\"\\\",\\\"\\\",\\\"if \\\\_\\\\_name\\\\_\\\\_ == \\\\\\\\\\\"\\\\_\\\\_main\\\\_\\\\_\\\\\\\\\\\":\\\",\\\" main()\\\"\\\\],\\\"stylingDirectives\\\":\\\\[\\\\[\\\\[0,3,\\\"pl-k\\\"\\\\],\\\\[4,8,\\\"pl-en\\\"\\\\]\\\\],\\\\[\\\\[4,9,\\\"pl-en\\\"\\\\],\\\\[10,34,\\\"pl-s\\\"\\\\]\\\\],\\\\[\\\\],\\\\[\\\\],\\\\[\\\\[0,2,\\\"pl-k\\\"\\\\],\\\\[3,11,\\\"pl-s1\\\"\\\\],\\\\[12,14,\\\"pl-c1\\\"\\\\],\\\\[15,25,\\\"pl-s\\\"\\\\]\\\\],\\\\[\\\\[4,8,\\\"pl-en\\\"\\\\]\\\\]\\\\],\\\"colorizedLines\\\":null,\\\"csv\\\":null,\\\"csvError\\\":null,\\\"copilotSWEAgentEnabled\\\":false,\\\"dependabotInfo\\\":{\\\"showConfigurationBanner\\\":false,\\\"configFilePath\\\":null,\\\"networkDependabotPath\\\":\\\"/Azure-Samples/ai-foundry-agents-samples/network/updates\\\",\\\"dismissConfigurationNoticePath\\\":\\\"/settings/dismiss-notice/dependabot\\\\_configuration\\\\_notice\\\",\\\"configurationNoticeDismissed\\\":null},\\\"displayName\\\":\\\"main.py\\\",\\\"displayUrl\\\":\\\"https://github.com/Azure-Samples/ai-foundry-agents-samples/blob/6245ef8407c79333d66ac5c0c23950dea9e12b2c/examples/mcp/streamable-http/mcp-server/main.py?raw=true\\\",\\\"headerInfo\\\":{\\\"blobSize\\\":\\\"88 Bytes\\\",\\\"deleteTooltip\\\":\\\"You must be signed in to make or propose changes\\\",\\\"editTooltip\\\":\\\"You must be signed in to make or propose changes\\\",\\\"ghDesktopPath\\\":null,\\\"isGitLfs\\\":false,\\\"onBranch\\\":false,\\\"shortPath\\\":\\\"3543ba8\\\",\\\"siteNavLoginPath\\\":\\\"/login?return\\\\_to=https%3A%2F%2Fgithub.com%2FAzure-Samples%2Fai-foundry-agents-samples%2Fblob%2F6245ef8407c79333d66ac5c0c23950dea9e12b2c%2Fexamples%2Fmcp%2Fstreamable-http%2Fmcp-server%2Fmain.py\\\",\\\"isCSV\\\":false,\\\"isRichtext\\\":false,\\\"toc\\\":null,\\\"lineInfo\\\":{\\\"truncatedLoc\\\":\\\"6\\\",\\\"truncatedSloc\\\":\\\"4\\\"},\\\"mode\\\":\\\"file\\\"},\\\"image\\\":false,\\\"isCodeownersFile\\\":null,\\\"isPlain\\\":false,\\\"isValidLegacyIssueTemplate\\\":false,\\\"issueTemplate\\\":null,\\\"discussionTemplate\\\":null,\\\"language\\\":\\\"Python\\\",\\\"languageID\\\":303,\\\"large\\\":false,\\\"planSupportInfo\\\":{\\\"repoIsFork\\\":null,\\\"repoOwnedByCurrentUser\\\":null,\\\"requestFullPath\\\":\\\"/Azure-Samples/ai-foundry-agents-samples/blob/6245ef8407c79333d66ac5c0c23950dea9e12b2c/examples/mcp/streamable-http/mcp-server/main.py\\\",\\\"showFreeOrgGatedFeatureMessage\\\":null,\\\"showPlanSupportBanner\\\":null,\\\"upgradeDataAttributes\\\":null,\\\"upgradePath\\\":null},\\\"publishBannersInfo\\\":{\\\"dismissActionNoticePath\\\":\\\"/settings/dismiss-notice/publish\\\\_action\\\\_from\\\\_dockerfile\\\",\\\"releasePath\\\":\\\"/Azure-Samples/ai-foundry-agents-samples/releases/new?marketplace=true\\\",\\\"showPublishActionBanner\\\":false},\\\"rawBlobUrl\\\":\\\"https://github.com/Azure-Samples/ai-foundry-agents-samples/raw/6245ef8407c79333d66ac5c0c23950dea9e12b2c/examples/mcp/streamable-http/mcp-server/main.py\\\",\\\"renderImageOrRaw\\\":false,\\\"richText\\\":null,\\\"renderedFileInfo\\\":null,\\\"shortPath\\\":null,\\\"symbolsEnabled\\\":true,\\\"tabSize\\\":4,\\\"topBannersInfo\\\":{\\\"overridingGlobalFundingFile\\\":false,\\\"globalPreferredFundingPath\\\":null,\\\"showInvalidCitationWarning\\\":false,\\\"citationHelpUrl\\\":\\\"https://docs.github.com/github/creating-cloning-and-archiving-repositories/creating-a-repository-on-github/about-citation-files\\\",\\\"actionsOnboardingTip\\\":null},\\\"truncated\\\":false,\\\"viewable\\\":true,\\\"workflowRedirectUrl\\\":null,\\\"symbols\\\":{\\\"timed\\\\_out\\\":false,\\\"not\\\\_analyzed\\\":false,\\\"symbols\\\":\\\\[{\\\"name\\\":\\\"main\\\",\\\"kind\\\":\\\"function\\\",\\\"ident\\\\_start\\\":4,\\\"ident\\\\_end\\\":8,\\\"extent\\\\_start\\\":0,\\\"extent\\\\_end\\\":47,\\\"fully\\\\_qualified\\\\_name\\\":\\\"main\\\",\\\"ident\\\\_utf16\\\":{\\\"start\\\":{\\\"line\\\\_number\\\":0,\\\"utf16\\\\_col\\\":4},\\\"end\\\":{\\\"line\\\\_number\\\":0,\\\"utf16\\\\_col\\\":8}},\\\"extent\\\\_utf16\\\":{\\\"start\\\":{\\\"line\\\\_number\\\":0,\\\"utf16\\\\_col\\\":0},\\\"end\\\":{\\\"line\\\\_number\\\":1,\\\"utf16\\\\_col\\\":35}}}\\\\]}},\\\"copilotInfo\\\":null,\\\"copilotAccessAllowed\\\":false,\\\"modelsAccessAllowed\\\":false,\\\"modelsRepoIntegrationEnabled\\\":false,\\\"isMarketplaceEnabled\\\":true,\\\"csrf\\\\_tokens\\\":{\\\"/Azure-Samples/ai-foundry-agents-samples/branches\\\":{\\\"post\\\":\\\"\\\\_WntxnlprLQVJVoCrFdVTY17SA3-AezDzsbQEMw--7HojnQaT-CoQlPsT1zOtmu1abWaaeiXMQJoh1QbXRKpWQ\\\"},\\\"/repos/preferences\\\":{\\\"post\\\":\\\"G4lNgEAvt9AKr8FkyqHnmGNXgh2C15eJaCMYka38leYgaX43z0fxCS3tgTdM393h4SoaV1bsgatJyoJk3hqHDg\\\"}}},\\\"title\\\":\\\"ai-foundry-agents-samples/examples/mcp/streamable-http/mcp-server/main.py at 6245ef8407c79333d66ac5c0c23950dea9e12b2c \\u00b7 Azure-Samples/ai-foundry-agents-samples\\\",\\\"appPayload\\\":{\\\"helpUrl\\\":\\\"https://docs.github.com\\\",\\\"findFileWorkerPath\\\":\\\"/assets-cdn/worker/find-file-worker-9bd411a8e273.js\\\",\\\"findInFileWorkerPath\\\":\\\"/assets-cdn/worker/find-in-file-worker-410714137fc9.js\\\",\\\"githubDevUrl\\\":null,\\\"enabled\\\\_features\\\":{\\\"code\\\\_nav\\\\_ui\\\\_events\\\":false,\\\"react\\\\_blob\\\\_overlay\\\":false,\\\"accessible\\\\_code\\\\_button\\\":true}}}</script> <div data-target=\\\"react-app.reactRoot\\\"></div></turbo-frame>\\n## Footer\\n\\n&copy; 2025 GitHub, Inc.\\n### Footer navigation\\n\\n* [Terms](https://docs.github.com/site-policy/github-terms/github-terms-of-service)\\n* [Privacy](https://docs.github.com/site-policy/privacy-policies/github-privacy-statement)\\n* [Security](https://github.com/security)\\n* [Status](https://www.githubstatus.com/)\\n* [Docs](https://docs.github.com/)\\n* [Contact](https://support.github.com?tags=dotcom-footer)\\n* <cookie-consent-link><button>Manage cookies</button></cookie-consent-link>\\n* <cookie-consent-link><button>Do not share my personal information</button></cookie-consent-link> \\n\\nYou can\\u2019t perform that action at this time.\"\n",
      "}\n",
      "🔄 Run step: step_NdfSBPPgCbrqrXBAElCkuN3x, status: RunStepStatus.COMPLETED, type: RunStepType.TOOL_CALLS\n",
      "🛠️ Tool call details:\n",
      "{\n",
      "     \"id\": \"call_tu9CMyEYFcrtfps40PfUqYvS\",\n",
      "     \"type\": \"mcp\",\n",
      "     \"arguments\": \"{\\\"query\\\":\\\"mcp server\\\",\\\"page\\\":1}\",\n",
      "     \"name\": \"search_ai_code\",\n",
      "     \"server_label\": \"github\",\n",
      "     \"output\": \"### Code Search Results for: \\\"mcp server\\\"\\n\\nFound 16 matches in Azure-Samples/ai-foundry-agents-samples.\\nPage 1 of 1.\\n\\n#### README.md\\n- **Path**: examples/mcp/streamable-http/mcp-server/README.md\\n- **URL**: https://github.com/Azure-Samples/ai-foundry-agents-samples/blob/6245ef8407c79333d66ac5c0c23950dea9e12b2c/examples/mcp/streamable-http/mcp-server/README.md\\n- **Git URL**: https://api.github.com/repositories/969602866/git/blobs/4e31c420930c9d6a12417430d6f93f43f54860ab\\n- **Score**: 1\\n\\n#### weather.py\\n- **Path**: examples/mcp/streamable-http/mcp-server/weather.py\\n- **URL**: https://github.com/Azure-Samples/ai-foundry-agents-samples/blob/6245ef8407c79333d66ac5c0c23950dea9e12b2c/examples/mcp/streamable-http/mcp-server/weather.py\\n- **Git URL**: https://api.github.com/repositories/969602866/git/blobs/f2a02e4e4b6b72cbb744adbc7e947a2cf0981c69\\n- **Score**: 1\\n\\n#### pet_store_mcp.py\\n- **Path**: examples/mcp/streamable-http/apim-petstore-mcp/pet_store_mcp.py\\n- **URL**: https://github.com/Azure-Samples/ai-foundry-agents-samples/blob/6245ef8407c79333d66ac5c0c23950dea9e12b2c/examples/mcp/streamable-http/apim-petstore-mcp/pet_store_mcp.py\\n- **Git URL**: https://api.github.com/repositories/969602866/git/blobs/a9700c3b5ea40a2c32fe0f6844c637fa5faf39a1\\n- **Score**: 1\\n\\n#### sample_agents_mcp.py\\n- **Path**: examples/mcp/streamable-http/ai-foundry-agent/sample_agents_mcp.py\\n- **URL**: https://github.com/Azure-Samples/ai-foundry-agents-samples/blob/6245ef8407c79333d66ac5c0c23950dea9e12b2c/examples/mcp/streamable-http/ai-foundry-agent/sample_agents_mcp.py\\n- **Git URL**: https://api.github.com/repositories/969602866/git/blobs/67f14aa354547681c3d90236b2629a8f2d489cf9\\n- **Score**: 1\\n\\n#### mcp_as_streamable_plugin.py\\n- **Path**: examples/mcp/streamable-http/mcp-client/mcp_as_streamable_plugin.py\\n- **URL**: https://github.com/Azure-Samples/ai-foundry-agents-samples/blob/6245ef8407c79333d66ac5c0c23950dea9e12b2c/examples/mcp/streamable-http/mcp-client/mcp_as_streamable_plugin.py\\n- **Git URL**: https://api.github.com/repositories/969602866/git/blobs/b5dacb4ddd41b7b436b9fa693c97f02110ba8d69\\n- **Score**: 1\\n\\n#### .env_sample\\n- **Path**: examples/mcp/streamable-http/apim-petstore-mcp/.env_sample\\n- **URL**: https://github.com/Azure-Samples/ai-foundry-agents-samples/blob/6245ef8407c79333d66ac5c0c23950dea9e12b2c/examples/mcp/streamable-http/apim-petstore-mcp/.env_sample\\n- **Git URL**: https://api.github.com/repositories/969602866/git/blobs/bedc6b15801524322dae44e34026eeb8d775c664\\n- **Score**: 1\\n\\n#### main.py\\n- **Path**: examples/mcp/streamable-http/mcp-server/main.py\\n- **URL**: https://github.com/Azure-Samples/ai-foundry-agents-samples/blob/6245ef8407c79333d66ac5c0c23950dea9e12b2c/examples/mcp/streamable-http/mcp-server/main.py\\n- **Git URL**: https://api.github.com/repositories/969602866/git/blobs/3543ba8418a395f31febdb37604a825e4ec81f17\\n- **Score**: 1\\n\\n#### pyproject.toml\\n- **Path**: examples/mcp/streamable-http/mcp-server/pyproject.toml\\n- **URL**: https://github.com/Azure-Samples/ai-foundry-agents-samples/blob/6245ef8407c79333d66ac5c0c23950dea9e12b2c/examples/mcp/streamable-http/mcp-server/pyproject.toml\\n- **Git URL**: https://api.github.com/repositories/969602866/git/blobs/1229647fd7af89fc2f9bb6f58c2ad33322d92c7a\\n- **Score**: 1\\n\\n#### uv.lock\\n- **Path**: examples/mcp/streamable-http/mcp-server/uv.lock\\n- **URL**: https://github.com/Azure-Samples/ai-foundry-agents-samples/blob/6245ef8407c79333d66ac5c0c23950dea9e12b2c/examples/mcp/streamable-http/mcp-server/uv.lock\\n- **Git URL**: https://api.github.com/repositories/969602866/git/blobs/e9812391f6fd5786b0bb63cb022b48eba0b77643\\n- **Score**: 1\\n\\n#### main_azure_ai_foundry.py\\n- **Path**: examples/mcp/filesystem_example/main_azure_ai_foundry.py\\n- **URL**: https://github.com/Azure-Samples/ai-foundry-agents-samples/blob/6245ef8407c79333d66ac5c0c23950dea9e12b2c/examples/mcp/filesystem_example/main_azure_ai_foundry.py\\n- **Git URL**: https://api.github.com/repositories/969602866/git/blobs/230f99095f8a4ff970eac41c750a3ced4427fcd0\\n- **Score**: 1\\n\\n#### README.md\\n- **Path**: examples/mcp/streamable-http/apim-petstore-mcp/README.md\\n- **URL**: https://github.com/Azure-Samples/ai-foundry-agents-samples/blob/6245ef8407c79333d66ac5c0c23950dea9e12b2c/examples/mcp/streamable-http/apim-petstore-mcp/README.md\\n- **Git URL**: https://api.github.com/repositories/969602866/git/blobs/3b0535df63ee4d36f1df70eef2713fcb608cda57\\n- **Score**: 1\\n\\n#### README.md\\n- **Path**: examples/mcp/streamable-http/README.md\\n- **URL**: https://github.com/Azure-Samples/ai-foundry-agents-samples/blob/6245ef8407c79333d66ac5c0c23950dea9e12b2c/examples/mcp/streamable-http/README.md\\n- **Git URL**: https://api.github.com/repositories/969602866/git/blobs/efb8b03d1e80dfec205123525a9c4a6e3847e647\\n- **Score**: 1\\n\\n#### .env_sample\\n- **Path**: examples/mcp/streamable-http/ai-foundry-agent/.env_sample\\n- **URL**: https://github.com/Azure-Samples/ai-foundry-agents-samples/blob/6245ef8407c79333d66ac5c0c23950dea9e12b2c/examples/mcp/streamable-http/ai-foundry-agent/.env_sample\\n- **Git URL**: https://api.github.com/repositories/969602866/git/blobs/9c72d15be14c4340c2c185b14e9ff8045c27548f\\n- **Score**: 1\\n\\n#### README.md\\n- **Path**: README.md\\n- **URL**: https://github.com/Azure-Samples/ai-foundry-agents-samples/blob/6245ef8407c79333d66ac5c0c23950dea9e12b2c/README.md\\n- **Git URL**: https://api.github.com/repositories/969602866/git/blobs/8385eea00723b76fda504265b011e4259b90e002\\n- **Score**: 1\\n\\n#### .env_sample\\n- **Path**: examples/mcp/streamable-http/mcp-client/.env_sample\\n- **URL**: https://github.com/Azure-Samples/ai-foundry-agents-samples/blob/6245ef8407c79333d66ac5c0c23950dea9e12b2c/examples/mcp/streamable-http/mcp-client/.env_sample\\n- **Git URL**: https://api.github.com/repositories/969602866/git/blobs/e9f9874c4c49fc996b5cea3adb2d2cadebd9e976\\n- **Score**: 1\\n\\n#### README.md\\n- **Path**: examples/mcp/filesystem_example/README.md\\n- **URL**: https://github.com/Azure-Samples/ai-foundry-agents-samples/blob/6245ef8407c79333d66ac5c0c23950dea9e12b2c/examples/mcp/filesystem_example/README.md\\n- **Git URL**: https://api.github.com/repositories/969602866/git/blobs/411af882292f5a86c3e86dca8cd2680cf9dcc7f0\\n- **Score**: 1\\n\\n\"\n",
      "}\n"
     ]
    }
   ],
   "source": [
    "project_client = AIProjectClient(endpoint=project_endpoint,\n",
    "                                 credential=DefaultAzureCredential())\n",
    "\n",
    "# MCP tool definition\n",
    "mcp_tool = McpTool(\n",
    "    server_label=\"github\",\n",
    "    server_url=mcp_server_url\n",
    "    #allowed_tools=[],          # Optional initial allow‑list\n",
    ")\n",
    "\n",
    "# Agent creation\n",
    "agent = agents_client.create_agent(\n",
    "    model=model_name,\n",
    "    name=\"agent-mcp\",\n",
    "    instructions=\"You are an AI agent. Use the tools provided to answer the user's questions. Be sure to cite your sources and answer in details.\",\n",
    "    tools=mcp_tool.definitions\n",
    ")\n",
    "print(f\"🎉 Created agent, agent ID: {agent.id}\")\n",
    "print(f\"✨ MCP Server: {mcp_tool.server_label} at {mcp_tool.server_url}\")\n",
    "\n",
    "# Thread creation\n",
    "thread = agents_client.threads.create()\n",
    "print(f\"🧵 Created thread, thread ID: {thread.id}\")\n",
    "\n",
    "# Message creation\n",
    "message = agents_client.messages.create(\n",
    "    thread_id=thread.id,\n",
    "    role=\"user\",\n",
    "    content=prompt,\n",
    ")\n",
    "print(f\"💬 Created message, message ID: {message.id}\")\n",
    "\n",
    "mcp_tool.set_approval_mode(\"never\")          # Disable human approval\n",
    "\n",
    "# Run\n",
    "run = agents_client.runs.create(thread_id=thread.id, agent_id=agent.id, tool_resources=mcp_tool.resources)\n",
    "while run.status in [\"queued\", \"in_progress\", \"requires_action\"]:\n",
    "    time.sleep(2)\n",
    "    run = agents_client.runs.get(thread_id=thread.id, run_id=run.id)\n",
    "    print(f\"⏳ Run status: {run.status}\")\n",
    "if run.status == \"failed\":\n",
    "    print(f\"❌ Run error: {run.last_error}\")\n",
    "\n",
    "# Run steps\n",
    "run_steps = agents_client.run_steps.list(thread_id=thread.id, run_id=run.id)\n",
    "print()\n",
    "\n",
    "for step in run_steps:\n",
    "    print(f\"🔄 Run step: {step.id}, status: {step.status}, type: {step.type}\")\n",
    "    if step.type == \"tool_calls\":\n",
    "        print(f\"🛠️ Tool call details:\")\n",
    "        for tool_call in step.step_details.tool_calls:\n",
    "            print(json.dumps(tool_call.as_dict(), indent=5))\n"
   ]
  },
  {
   "cell_type": "code",
   "execution_count": 14,
   "id": "93a99bc0-fc2b-4a7f-80c7-dbd4c97db8ee",
   "metadata": {},
   "outputs": [
    {
     "name": "stdout",
     "output_type": "stream",
     "text": [
      "MessageRole.USER: Any python code for a mcp server with Azure AI Agent?\n",
      "MessageRole.AGENT: Yes, there **is sample Python code available for implementing an MCP (Model Control Plane) server as well as an Azure AI Agent that calls it** in the [Azure-Samples/ai-foundry-agents-samples](https://github.com/Azure-Samples/ai-foundry-agents-samples) repository.\n",
      "\n",
      "Here’s a **summary and example** to get you started:\n",
      "\n",
      "---\n",
      "\n",
      "## 1. Basic MCP Server (Python Example)\n",
      "\n",
      "The simplest MCP server in the repo is just a starting point (`main.py`):\n",
      "\n",
      "```python\n",
      "def main():\n",
      "    print(\"Hello from mcp-server!\")\n",
      "\n",
      "if __name__ == \"__main__\":\n",
      "    main()\n",
      "```\n",
      "—\n",
      "But a more realistic MCP server would provide actual endpoints for the agent to call (for example, a small FastAPI server).\n",
      "\n",
      "---\n",
      "\n",
      "## 2. Azure AI Agent Using an MCP Tool\n",
      "\n",
      "The file [`sample_agents_mcp.py`](https://github.com/Azure-Samples/ai-foundry-agents-samples/blob/main/examples/mcp/streamable-http/ai-foundry-agent/sample_agents_mcp.py) gives a **full example** of how to set up and use an MCP tool with an Azure AI Agent. Here’s a condensed, annotated version:\n",
      "\n",
      "```python\n",
      "import os\n",
      "import time\n",
      "from azure.ai.projects import AIProjectClient\n",
      "from azure.identity import DefaultAzureCredential\n",
      "from azure.ai.agents.models import McpTool\n",
      "\n",
      "# Load environmental variables from .env\n",
      "from dotenv import load_dotenv\n",
      "load_dotenv()\n",
      "\n",
      "# Set up Azure AI Project client\n",
      "project_client = AIProjectClient(\n",
      "    endpoint=os.environ[\"PROJECT_ENDPOINT\"],\n",
      "    credential=DefaultAzureCredential(),\n",
      ")\n",
      "\n",
      "# Initialize agent MCP tool\n",
      "mcp_tool = McpTool(\n",
      "    server_label=\"weather\",\n",
      "    server_url=os.environ[\"WEATHER_MCP_SERVER_URL\"],\n",
      ")\n",
      "\n",
      "with project_client:\n",
      "    agents_client = project_client.agents\n",
      "    agent = agents_client.create_agent(\n",
      "        model=os.environ[\"MODEL_DEPLOYMENT_NAME\"],\n",
      "        name=\"my-weather-mcp-agent\",\n",
      "        instructions=\"You are a helpful agent that can use MCP tools to assist users...\",\n",
      "        tools=mcp_tool.definitions,\n",
      "    )\n",
      "    print(f\"Created agent, ID: {agent.id}\")\n",
      "\n",
      "    # Start a new thread and message\n",
      "    thread = agents_client.threads.create()\n",
      "    message = agents_client.messages.create(\n",
      "        thread_id=thread.id,\n",
      "        role=\"user\",\n",
      "        content=\"please list the weather alerts in NY\",\n",
      "    )\n",
      "\n",
      "    # Set approval mode and run\n",
      "    mcp_tool.set_approval_mode(\"never\")\n",
      "    run = agents_client.runs.create(\n",
      "        thread_id=thread.id,\n",
      "        agent_id=agent.id,\n",
      "        tool_resources=mcp_tool.resources\n",
      "    )\n",
      "\n",
      "    # Poll until run is complete\n",
      "    while run.status in [\"queued\", \"in_progress\", \"requires_action\"]:\n",
      "        time.sleep(1)\n",
      "        run = agents_client.runs.get(thread_id=thread.id, run_id=run.id)\n",
      "        print(f\"Current run status: {run.status}\")\n",
      "\n",
      "    print(f\"Run completed with status: {run.status}\")\n",
      "\n",
      "    # Delete agent after use\n",
      "    agents_client.delete_agent(agent.id)\n",
      "    print(\"Deleted agent\")\n",
      "```\n",
      "\n",
      "**Setup needed:**\n",
      "- Configure `.env` with your Azure project info and MCP server URL (see comments in the repo’s sample).\n",
      "\n",
      "---\n",
      "\n",
      "## 3. References and More Details\n",
      "\n",
      "- [sample_agents_mcp.py - GitHub (Full Example)](https://github.com/Azure-Samples/ai-foundry-agents-samples/blob/main/examples/mcp/streamable-http/ai-foundry-agent/sample_agents_mcp.py)\n",
      "- [README for MCP agent scenarios](https://github.com/Azure-Samples/ai-foundry-agents-samples/tree/main/examples/mcp/streamable-http)\n",
      "- To run locally, see the project’s installation and environment instructions.\n",
      "\n",
      "---\n",
      "\n",
      "### Summary\n",
      "\n",
      "To combine the two:\n",
      "- Implement your MCP server (likely with FastAPI/Flask).\n",
      "- Register it as an MCP tool in your Azure AI Agent using the format above.\n",
      "- The Agent can then call your MCP server for actions/data.\n",
      "\n",
      "Let me know if you want **a more detailed server example (e.g., with FastAPI)** or have questions on deployment/config!\n"
     ]
    }
   ],
   "source": [
    "messages = agents_client.messages.list(thread_id=thread.id,\n",
    "                                               order=ListSortOrder.ASCENDING)\n",
    "\n",
    "for item in messages:\n",
    "    last_message_content = item.content[-1]\n",
    "    if isinstance(last_message_content, MessageTextContent):\n",
    "        print(f\"{item.role}: {last_message_content.text.value}\")"
   ]
  },
  {
   "cell_type": "code",
   "execution_count": 15,
   "id": "5df32956-dc16-4aea-af56-6cb71096039f",
   "metadata": {},
   "outputs": [
    {
     "name": "stdout",
     "output_type": "stream",
     "text": [
      "🗑️ Deleted agent, agent ID: asst_utT9utVh98zyQdvpb3U0pRZn\n"
     ]
    }
   ],
   "source": [
    "## Clean Up: Delete Agent\n",
    "agents_client.delete_agent(agent.id)\n",
    "print(f\"🗑️ Deleted agent, agent ID: {agent.id}\")\n"
   ]
  }
 ],
 "metadata": {
  "kernelspec": {
   "display_name": "test_env",
   "language": "python",
   "name": "python3"
  },
  "language_info": {
   "codemirror_mode": {
    "name": "ipython",
    "version": 3
   },
   "file_extension": ".py",
   "mimetype": "text/x-python",
   "name": "python",
   "nbconvert_exporter": "python",
   "pygments_lexer": "ipython3",
   "version": "3.11.9"
  },
  "varInspector": {
   "cols": {
    "lenName": 16,
    "lenType": 16,
    "lenVar": 40
   },
   "kernels_config": {
    "python": {
     "delete_cmd_postfix": "",
     "delete_cmd_prefix": "del ",
     "library": "var_list.py",
     "varRefreshCmd": "print(var_dic_list())"
    },
    "r": {
     "delete_cmd_postfix": ") ",
     "delete_cmd_prefix": "rm(",
     "library": "var_list.r",
     "varRefreshCmd": "cat(var_dic_list()) "
    }
   },
   "types_to_exclude": [
    "module",
    "function",
    "builtin_function_or_method",
    "instance",
    "_Feature"
   ],
   "window_display": false
  }
 },
 "nbformat": 4,
 "nbformat_minor": 5
}
