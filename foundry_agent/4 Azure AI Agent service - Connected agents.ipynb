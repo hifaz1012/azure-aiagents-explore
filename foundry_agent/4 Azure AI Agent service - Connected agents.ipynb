{
 "cells": [
  {
   "cell_type": "markdown",
   "id": "c2f3bc98-b67f-4fc8-a6ce-629ded97591d",
   "metadata": {},
   "source": [
    "# Azure AI Agent service - Connected agents\n",
    "\n",
    "<img src=\"https://learn.microsoft.com/en-us/azure/ai-services/agents/media/agent-service-the-glue.png\" width=800>\n",
    "\n",
    "> https://learn.microsoft.com/en-us/azure/ai-services/agents/"
   ]
  },
  {
   "cell_type": "code",
   "execution_count": 5,
   "id": "f89d4f53-d50f-421c-a342-b7e4f92a72cc",
   "metadata": {},
   "outputs": [],
   "source": [
    "import datetime\n",
    "import os\n",
    "import sys\n",
    "import time\n",
    "\n",
    "from azure.ai.agents import AgentsClient\n",
    "from azure.ai.projects import AIProjectClient\n",
    "from azure.ai.agents.models import BingGroundingTool, ConnectedAgentTool, FilePurpose, FileSearchTool, ListSortOrder, MessageRole\n",
    "from azure.identity import DefaultAzureCredential\n",
    "from dotenv import load_dotenv"
   ]
  },
  {
   "cell_type": "markdown",
   "id": "07d4161e-8ec1-4cf8-81a0-9e2628adc203",
   "metadata": {},
   "source": [
    "## Settings"
   ]
  },
  {
   "cell_type": "code",
   "execution_count": 6,
   "id": "0bce3e7a-920d-417a-a8d9-f89c697da841",
   "metadata": {},
   "outputs": [
    {
     "data": {
      "text/plain": [
       "False"
      ]
     },
     "execution_count": 6,
     "metadata": {},
     "output_type": "execute_result"
    }
   ],
   "source": [
    "load_dotenv(\".env\")"
   ]
  },
  {
   "cell_type": "code",
   "execution_count": 7,
   "id": "59cf8464-5a76-420a-9581-aea2336b5c47",
   "metadata": {},
   "outputs": [],
   "source": [
    "endpoint = os.getenv(\"PROJECT_ENDPOINT\")\n",
    "credential = DefaultAzureCredential()\n",
    "\n",
    "project_client = AIProjectClient(endpoint=endpoint, credential=credential)"
   ]
  },
  {
   "cell_type": "markdown",
   "id": "a147d759-07fd-472e-be42-07cd361b20c4",
   "metadata": {},
   "source": [
    "## Agents definition"
   ]
  },
  {
   "cell_type": "markdown",
   "id": "a05593db-1fda-496f-ba00-c2831194c7ce",
   "metadata": {},
   "source": [
    "### 1. Stocks price agent"
   ]
  },
  {
   "cell_type": "code",
   "execution_count": 8,
   "id": "442ebc71-6aff-4104-9012-0069eb6449b6",
   "metadata": {},
   "outputs": [],
   "source": [
    "bing_connection = project_client.connections.get(name=os.environ[\"BING_CONNECTION_NAME\"])\n",
    "BING_CONN_ID = bing_connection.id\n",
    "model = os.getenv(\"MODEL_DEPLOYMENT_NAME\")\n",
    "bing = BingGroundingTool(connection_id=BING_CONN_ID)"
   ]
  },
  {
   "cell_type": "code",
   "execution_count": 9,
   "id": "da598e22-275a-471e-a2e9-137c46c6d234",
   "metadata": {},
   "outputs": [],
   "source": [
    "agents_client = project_client.agents\n",
    "stocksprice_agent = agents_client.create_agent(\n",
    "    model=model,\n",
    "    name=\"stocks-price-agent-demo\",\n",
    "    instructions=\"Retrieve the current stock price for a specified company.\",\n",
    "    tools=bing.definitions,\n",
    "    headers={\"x-ms-enable-preview\": \"true\"},\n",
    "    description=\"Stocks price agent (demo)\",\n",
    "    temperature=0.7,\n",
    ")"
   ]
  },
  {
   "cell_type": "code",
   "execution_count": 10,
   "id": "f96bcc3e-11b5-46aa-91e4-903bee459570",
   "metadata": {},
   "outputs": [
    {
     "name": "stdout",
     "output_type": "stream",
     "text": [
      "Created agent, ID: asst_rq6DsLkoTvbibzFcf2q5l8HI\n"
     ]
    }
   ],
   "source": [
    "print(f\"Created agent, ID: {stocksprice_agent.id}\")"
   ]
  },
  {
   "cell_type": "markdown",
   "id": "e420ebd3-7456-4f7c-82e8-2d8d9d645e10",
   "metadata": {},
   "source": [
    "### 2. Currency agent"
   ]
  },
  {
   "cell_type": "code",
   "execution_count": 11,
   "id": "f7dee6b1-c474-4059-a0e6-7278bde83db5",
   "metadata": {},
   "outputs": [],
   "source": [
    "currency_convert_agent = agents_client.create_agent(\n",
    "    model=model,\n",
    "    name=\"currency-convert-agent-demo\",\n",
    "    instructions=\"Retrieve the current currency exchange rate.\",\n",
    "    tools=bing.definitions,\n",
    "    headers={\"x-ms-enable-preview\": \"true\"},\n",
    "    description=\"Currency convert agent (demo)\",\n",
    "    temperature=0.7,\n",
    ")"
   ]
  },
  {
   "cell_type": "code",
   "execution_count": 12,
   "id": "7b346dae-b809-44b3-8b60-591f6c2e0a9b",
   "metadata": {},
   "outputs": [
    {
     "name": "stdout",
     "output_type": "stream",
     "text": [
      "Created agent, ID: asst_PN9TkeQkAbeDpJasNxRzYEbp\n"
     ]
    }
   ],
   "source": [
    "print(f\"Created agent, ID: {currency_convert_agent.id}\")"
   ]
  },
  {
   "cell_type": "markdown",
   "id": "38f36d76-c616-4654-9224-b451b9980c98",
   "metadata": {},
   "source": [
    "### 3. Main agent with connected agents"
   ]
  },
  {
   "cell_type": "code",
   "execution_count": 13,
   "id": "6a9bc328-6651-4347-99f0-ecd27344960f",
   "metadata": {},
   "outputs": [],
   "source": [
    "connected_agent_stocks = ConnectedAgentTool(\n",
    "    id=stocksprice_agent.id,\n",
    "    name=\"stockspriceagentconnection\",\n",
    "    description=\"Get the stock price of a company\")"
   ]
  },
  {
   "cell_type": "code",
   "execution_count": 14,
   "id": "f0d35f60-f817-461f-9877-3399b16bf933",
   "metadata": {},
   "outputs": [],
   "source": [
    "connected_agent_currency = ConnectedAgentTool(\n",
    "    id=currency_convert_agent.id,\n",
    "    name=\"currencyconvertagentconnection\",\n",
    "    description=\"Convert an amount into another currency\")"
   ]
  },
  {
   "cell_type": "code",
   "execution_count": 15,
   "id": "a69d706b-d162-4d11-a88c-e3c84cd3f44c",
   "metadata": {},
   "outputs": [],
   "source": [
    "main_agent_demo = agents_client.create_agent(\n",
    "    model=model,\n",
    "    name=\"main-agent-demo\",\n",
    "    instructions=\"You are the main AI agent\",\n",
    "    description=\"Main agent (demo)\",\n",
    "    tools=[\n",
    "        connected_agent_stocks.definitions[0],\n",
    "        connected_agent_currency.definitions[0]\n",
    "    ],\n",
    ")"
   ]
  },
  {
   "cell_type": "code",
   "execution_count": 16,
   "id": "a8245a91-3dbf-441e-b270-cca92decbffe",
   "metadata": {},
   "outputs": [
    {
     "name": "stdout",
     "output_type": "stream",
     "text": [
      "Created agent, ID: asst_gULrRxDjoYojVDgI5GpxsZPb\n"
     ]
    }
   ],
   "source": [
    "print(f\"Created agent, ID: {main_agent_demo.id}\")"
   ]
  },
  {
   "cell_type": "markdown",
   "id": "6da50ffe-7905-4e1c-aec6-8c22ed407396",
   "metadata": {},
   "source": [
    "## List of agents"
   ]
  },
  {
   "cell_type": "code",
   "execution_count": 17,
   "id": "64db8a11-d12f-440b-81f6-e6317d259193",
   "metadata": {},
   "outputs": [
    {
     "name": "stdout",
     "output_type": "stream",
     "text": [
      "Agent Details:\n",
      "📛 Name        : stocks-price-agent-demo\n",
      "🆔 ID          : asst_rq6DsLkoTvbibzFcf2q5l8HI\n",
      "🧠 Model       : gpt-4.1\n",
      "📜 Instructions: Retrieve the current stock price for a specified company.\n",
      "\n",
      "Agent Details:\n",
      "📛 Name        : currency-convert-agent-demo\n",
      "🆔 ID          : asst_PN9TkeQkAbeDpJasNxRzYEbp\n",
      "🧠 Model       : gpt-4.1\n",
      "📜 Instructions: Retrieve the current currency exchange rate.\n",
      "\n",
      "Agent Details:\n",
      "📛 Name        : main-agent-demo\n",
      "🆔 ID          : asst_gULrRxDjoYojVDgI5GpxsZPb\n",
      "🧠 Model       : gpt-4.1\n",
      "📜 Instructions: You are the main AI agent\n",
      "\n"
     ]
    }
   ],
   "source": [
    "agents_list = [stocksprice_agent, currency_convert_agent, main_agent_demo]\n",
    "\n",
    "for agent in agents_list:\n",
    "    print(\n",
    "        f\"Agent Details:\\n\"\n",
    "        f\"📛 Name        : {agent.name}\\n\"\n",
    "        f\"🆔 ID          : {agent.id}\\n\"\n",
    "        f\"🧠 Model       : {agent.model}\\n\"\n",
    "        f\"📜 Instructions: {agent.instructions}\\n\"\n",
    "    )"
   ]
  },
  {
   "cell_type": "markdown",
   "id": "ace8e0b5-70ed-48a6-a75e-adc80bb2ac5c",
   "metadata": {},
   "source": [
    "### Quick test"
   ]
  },
  {
   "cell_type": "markdown",
   "id": "830a8140-3603-4a81-8d2d-6398ceac10b3",
   "metadata": {},
   "source": [
    "### Example 1"
   ]
  },
  {
   "cell_type": "code",
   "execution_count": 18,
   "id": "ef181ab9-5133-4b7c-a67c-cf16c6f2424d",
   "metadata": {},
   "outputs": [],
   "source": [
    "prompt = \"What is microsoft's share price?\""
   ]
  },
  {
   "cell_type": "code",
   "execution_count": 20,
   "id": "9b3590a6-d6a8-41c7-b3e3-5365b9691856",
   "metadata": {},
   "outputs": [
    {
     "name": "stdout",
     "output_type": "stream",
     "text": [
      "🧵 [1] Created thread  | ID: thread_zl8eCpgsB1cSxVfGBpLtSRQ1\n",
      "💬 [2] Created message | ID: msg_MiIKPC9zjO3WTz13nhc4FNTv\n",
      "🏃 [3] Created run     | ID: run_fnjwpO1mOXRUFy48m0sFQlmu\n",
      "⏳ [4] Polling run status...\n",
      "🔄 Status: RunStatus.IN_PROGRESS\n",
      "🔄 Status: RunStatus.IN_PROGRESS\n",
      "🔄 Status: RunStatus.IN_PROGRESS\n",
      "🔄 Status: RunStatus.COMPLETED\n",
      "\n",
      "🔍 Step ID details: step_cH7mNHGugiGkU7rrGElhCOFW, Type: RunStepType.MESSAGE_CREATION\n",
      "Details step: {'id': 'step_cH7mNHGugiGkU7rrGElhCOFW', 'object': 'thread.run.step', 'created_at': 1756184461, 'run_id': 'run_fnjwpO1mOXRUFy48m0sFQlmu', 'assistant_id': 'asst_gULrRxDjoYojVDgI5GpxsZPb', 'thread_id': 'thread_zl8eCpgsB1cSxVfGBpLtSRQ1', 'type': 'message_creation', 'status': 'completed', 'cancelled_at': None, 'completed_at': 1756184462, 'expires_at': None, 'failed_at': None, 'last_error': None, 'step_details': {'type': 'message_creation', 'message_creation': {'message_id': 'msg_Z7lDA3bIy3vQQkgLZMXWYF02'}}, 'usage': {'prompt_tokens': 362, 'completion_tokens': 61, 'total_tokens': 423, 'prompt_token_details': {'cached_tokens': 0}}}\n",
      "\n",
      "🔍 Step ID details: step_gUEXsbYz1kEYIQO0fMDghNKb, Type: RunStepType.TOOL_CALLS\n",
      "Details step: {'id': 'step_gUEXsbYz1kEYIQO0fMDghNKb', 'object': 'thread.run.step', 'created_at': 1756184457, 'run_id': 'run_fnjwpO1mOXRUFy48m0sFQlmu', 'assistant_id': 'asst_gULrRxDjoYojVDgI5GpxsZPb', 'thread_id': 'thread_zl8eCpgsB1cSxVfGBpLtSRQ1', 'type': 'tool_calls', 'status': 'completed', 'cancelled_at': None, 'completed_at': 1756184461, 'expires_at': None, 'failed_at': None, 'last_error': None, 'step_details': {'type': 'tool_calls', 'tool_calls': [{'id': 'call_7mjT3ZlGC8iz96xk6jw4zqla', 'type': 'connected_agent', 'connected_agent': {'name': 'stockspriceagentconnection', 'arguments': '{\"query\":\"Microsoft share price\"}', 'output': 'content_type=\\'tether_browsing_display\\' result=\"【3:0†source】 \\\\nAs of the latest market close, Microsoft\\'s (MSFT) share price is $504.26. The stock reached a 52-week high of $555.45 and a low of $344.79. Please note that stock prices fluctuate throughout trading hours and after-hours sessions.\" summary=None assets=None tether_id=-99', 'run_id': 'run_QAuEvkeW1nvJi2mDjFzu394Q', 'thread_id': 'thread_kcdJ0j4yRMJjDJ4rTIHzkYA9', 'assistant_id': 'asst_rq6DsLkoTvbibzFcf2q5l8HI'}}]}, 'usage': {'prompt_tokens': 262, 'completion_tokens': 21, 'total_tokens': 283, 'prompt_token_details': {'cached_tokens': 0}}}\n",
      "\n",
      "🤖 [5] Agent responses:\n",
      "\u001b[1;34m\n",
      "💡 → MessageRole.USER: What is microsoft's share price?\n",
      "\u001b[1;34m\n",
      "💡 → MessageRole.AGENT: Microsoft's (MSFT) share price is currently $504.26. The stock has had a 52-week high of $555.45 and a low of $344.79. Please note that prices can change during trading hours and after-hours sessions【3:0†source】.\n",
      "\u001b[1;32m\n",
      "🔗 Source 1: [MSFT: Microsoft Corp - Stock Price, Quote and News - CNBC](https://www.cnbc.com/quotes/MSFT)\n",
      "\u001b[0m\n"
     ]
    }
   ],
   "source": [
    "# Step 1: Create a thread\n",
    "thread = agents_client.threads.create()\n",
    "print(f\"🧵 [1] Created thread  | ID: {thread.id}\")\n",
    "\n",
    "# Step 2: Send the user's message\n",
    "message = agents_client.messages.create(thread_id=thread.id,\n",
    "                                         role=\"user\",\n",
    "                                         content=prompt)\n",
    "print(f\"💬 [2] Created message | ID: {message.id}\")\n",
    "\n",
    "# Step 3: Start a run\n",
    "run = agents_client.runs.create(thread_id=thread.id, agent_id=agent.id)\n",
    "print(f\"🏃 [3] Created run     | ID: {run.id}\")\n",
    "\n",
    "# Step 4: Poll run status\n",
    "print(\"⏳ [4] Polling run status...\")\n",
    "while run.status in {\"queued\", \"in_progress\", \"requires_action\"}:\n",
    "    time.sleep(1)\n",
    "    run = agents_client.runs.get(thread_id=thread.id, run_id=run.id)\n",
    "    print(f\"🔄 Status: {run.status}\")\n",
    "\n",
    "    if run.status == \"failed\":\n",
    "        print(f\"❌ Run failed | Error: {run.last_error}\")\n",
    "        break\n",
    "\n",
    "run_steps = agents_client.run_steps.list(thread_id=thread.id, run_id=run.id)\n",
    "for step in run_steps:\n",
    "    print(f\"\\n🔍 Step ID details: {step.id}, Type: {step.type}\")\n",
    "    print(f\"Details step: {step}\")\n",
    "\n",
    "# Step 5: Display agent responses\n",
    "print(\"\\n🤖 [5] Agent responses:\")\n",
    "messages = agents_client.messages.list(thread_id=thread.id, order=ListSortOrder.ASCENDING)\n",
    "\n",
    "for msg in messages:\n",
    "    print(\"\\033[1;34m\")  # Blue text for agent messages\n",
    "    if msg.text_messages:\n",
    "        last_text = msg.text_messages[-1]\n",
    "        print(f\"💡 → {msg.role}: {last_text.text.value}\")\n",
    "    if msg.url_citation_annotations:\n",
    "        print(\"\\033[1;32m\")  # Green text for citations\n",
    "        idx = 1\n",
    "        for annotation in msg.url_citation_annotations:\n",
    "            print(f\"🔗 Source {idx}: [{annotation.url_citation.title}]({annotation.url_citation.url})\")\n",
    "            idx += 1\n",
    "\n",
    "print(\"\\033[0m\")  # Reset color"
   ]
  },
  {
   "cell_type": "markdown",
   "id": "021bfe5b-5974-4488-a2ba-4502c1d86b51",
   "metadata": {},
   "source": [
    "### Example 2"
   ]
  },
  {
   "cell_type": "code",
   "execution_count": 21,
   "id": "e1b3af22-e82d-4e33-814a-77153b594acb",
   "metadata": {},
   "outputs": [],
   "source": [
    "prompt = \"Convert this into € and in Japanese Yen\""
   ]
  },
  {
   "cell_type": "code",
   "execution_count": 22,
   "id": "5af11322-b0bd-4c2b-85b1-493cfeb210e1",
   "metadata": {},
   "outputs": [
    {
     "name": "stdout",
     "output_type": "stream",
     "text": [
      "🧵 [1] Using existing thread  | ID: thread_zl8eCpgsB1cSxVfGBpLtSRQ1\n",
      "💬 [2] Created message | ID: msg_JnpWhHqUZzumVOQ2zfuwQWZ1\n",
      "🏃 [3] Created run     | ID: run_DKQh5tGXJqemntNTZW5jw8aL\n",
      "⏳ [4] Polling run status...\n",
      "🔄 Status: RunStatus.IN_PROGRESS\n",
      "🔄 Status: RunStatus.IN_PROGRESS\n",
      "🔄 Status: RunStatus.COMPLETED\n",
      "\n",
      "🔍 Step ID details: step_rhm19fvWDmhxCLz4788jgMYX, Type: RunStepType.MESSAGE_CREATION\n",
      "Details step: {'id': 'step_rhm19fvWDmhxCLz4788jgMYX', 'object': 'thread.run.step', 'created_at': 1756184507, 'run_id': 'run_DKQh5tGXJqemntNTZW5jw8aL', 'assistant_id': 'asst_gULrRxDjoYojVDgI5GpxsZPb', 'thread_id': 'thread_zl8eCpgsB1cSxVfGBpLtSRQ1', 'type': 'message_creation', 'status': 'completed', 'cancelled_at': None, 'completed_at': 1756184507, 'expires_at': None, 'failed_at': None, 'last_error': None, 'step_details': {'type': 'message_creation', 'message_creation': {'message_id': 'msg_Qt1AQEhw788ZvLOSEIkAPB8g'}}, 'usage': {'prompt_tokens': 551, 'completion_tokens': 79, 'total_tokens': 630, 'prompt_token_details': {'cached_tokens': 0}}}\n",
      "\n",
      "🔍 Step ID details: step_g2l1Z7iXebyRzRYxjy1AOGFs, Type: RunStepType.TOOL_CALLS\n",
      "Details step: {'id': 'step_g2l1Z7iXebyRzRYxjy1AOGFs', 'object': 'thread.run.step', 'created_at': 1756184502, 'run_id': 'run_DKQh5tGXJqemntNTZW5jw8aL', 'assistant_id': 'asst_gULrRxDjoYojVDgI5GpxsZPb', 'thread_id': 'thread_zl8eCpgsB1cSxVfGBpLtSRQ1', 'type': 'tool_calls', 'status': 'completed', 'cancelled_at': None, 'completed_at': 1756184507, 'expires_at': None, 'failed_at': None, 'last_error': None, 'step_details': {'type': 'tool_calls', 'tool_calls': [{'id': 'call_wyq2ITcYQ8fuWPHp1Q1m7BW7', 'type': 'connected_agent', 'connected_agent': {'name': 'currencyconvertagentconnection', 'arguments': '{\"query\":\"Convert $504.26 USD to EUR and JPY\"}', 'output': \"content_type='tether_browsing_display' result='【7:0†source】 【7:1†source】 \\\\nAs of August 26, 2025, here are the current exchange rates:\\\\n\\\\n- **USD to EUR:** 1 USD = 0.8602 EUR\\\\n- **USD to JPY:** 1 USD = 147.73 JPY\\\\n\\\\nTo convert $504.26 USD:\\\\n\\\\n- **EUR:** $504.26 × 0.8602 = **€433.90**\\\\n- **JPY:** $504.26 × 147.73 = **¥74,494.64**\\\\n\\\\nThese are the approximate amounts you would get in Euros and Japanese Yen today.' summary=None assets=None tether_id=-99\", 'run_id': 'run_uH16vkmJyppZBnjuXGPeLy1B', 'thread_id': 'thread_7rIhMuEayc53FyzP3gmbDNas', 'assistant_id': 'asst_PN9TkeQkAbeDpJasNxRzYEbp'}}]}, 'usage': {'prompt_tokens': 375, 'completion_tokens': 28, 'total_tokens': 403, 'prompt_token_details': {'cached_tokens': 0}}}\n",
      "\n",
      "🤖 [5] Agent responses:\n",
      "\u001b[1;34m\n",
      "💡 → MessageRole.USER: What is microsoft's share price?\n",
      "\u001b[1;34m\n",
      "💡 → MessageRole.AGENT: Microsoft's (MSFT) share price is currently $504.26. The stock has had a 52-week high of $555.45 and a low of $344.79. Please note that prices can change during trading hours and after-hours sessions【3:0†source】.\n",
      "\u001b[1;32m\n",
      "🔗 Source 1: [MSFT: Microsoft Corp - Stock Price, Quote and News - CNBC](https://www.cnbc.com/quotes/MSFT)\n",
      "\u001b[1;34m\n",
      "💡 → MessageRole.USER: Convert this into € and in Japanese Yen\n",
      "\u001b[1;34m\n",
      "💡 → MessageRole.AGENT: Based on current exchange rates:\n",
      "\n",
      "- $504.26 USD is approximately **€433.90**\n",
      "- $504.26 USD is approximately **¥74,494.64 Japanese Yen**\n",
      "\n",
      "Exchange rates used: 1 USD = 0.8602 EUR, 1 USD = 147.73 JPY【7:0†source】【7:1†source】.\n",
      "\u001b[1;32m\n",
      "🔗 Source 1: [USD to JPY - US Dollar to Japanese Yen Conversion - Exchange Rates](https://www.exchange-rates.org/converter/usd-jpy)\n",
      "🔗 Source 2: [USD To EUR: Convert United States Dollar to Euro - Forbes](https://www.forbes.com/advisor/money-transfer/currency-converter/usd-eur/)\n",
      "\u001b[0m\n"
     ]
    }
   ],
   "source": [
    "# Step 1: Use a thread\n",
    "#thread = project_client.threads.create()\n",
    "print(f\"🧵 [1] Using existing thread  | ID: {thread.id}\")\n",
    "\n",
    "# Step 2: Send the user's message\n",
    "message = agents_client.messages.create(thread_id=thread.id,\n",
    "                                         role=\"user\",\n",
    "                                         content=prompt)\n",
    "print(f\"💬 [2] Created message | ID: {message.id}\")\n",
    "\n",
    "# Step 3: Start a run\n",
    "run = agents_client.runs.create(thread_id=thread.id, agent_id=agent.id)\n",
    "print(f\"🏃 [3] Created run     | ID: {run.id}\")\n",
    "\n",
    "# Step 4: Poll run status\n",
    "print(\"⏳ [4] Polling run status...\")\n",
    "while run.status in {\"queued\", \"in_progress\", \"requires_action\"}:\n",
    "    time.sleep(1)\n",
    "    run = agents_client.runs.get(thread_id=thread.id, run_id=run.id)\n",
    "    print(f\"🔄 Status: {run.status}\")\n",
    "\n",
    "    if run.status == \"failed\":\n",
    "        print(f\"❌ Run failed | Error: {run.last_error}\")\n",
    "        break\n",
    "\n",
    "run_steps = agents_client.run_steps.list(thread_id=thread.id, run_id=run.id)\n",
    "for step in run_steps:\n",
    "    print(f\"\\n🔍 Step ID details: {step.id}, Type: {step.type}\")\n",
    "    print(f\"Details step: {step}\")\n",
    "\n",
    "# Step 5: Display agent responses\n",
    "print(\"\\n🤖 [5] Agent responses:\")\n",
    "messages = agents_client.messages.list(thread_id=thread.id, order=ListSortOrder.ASCENDING)\n",
    "\n",
    "for msg in messages:\n",
    "    print(\"\\033[1;34m\")  # Blue text for agent messages\n",
    "    if msg.text_messages:\n",
    "        last_text = msg.text_messages[-1]\n",
    "        print(f\"💡 → {msg.role}: {last_text.text.value}\")\n",
    "    if msg.url_citation_annotations:\n",
    "        print(\"\\033[1;32m\")  # Green text for citations\n",
    "        idx = 1\n",
    "        for annotation in msg.url_citation_annotations:\n",
    "            print(f\"🔗 Source {idx}: [{annotation.url_citation.title}]({annotation.url_citation.url})\")\n",
    "            idx += 1\n",
    "\n",
    "print(\"\\033[0m\")  # Reset color"
   ]
  },
  {
   "cell_type": "code",
   "execution_count": 24,
   "id": "defb18e8-3ba1-4226-8e0f-6d4a770ec5ad",
   "metadata": {},
   "outputs": [
    {
     "name": "stdout",
     "output_type": "stream",
     "text": [
      "Deleted agent, agent ID: asst_rq6DsLkoTvbibzFcf2q5l8HI\n",
      "Deleted agent, agent ID: asst_PN9TkeQkAbeDpJasNxRzYEbp\n",
      "Deleted agent, agent ID: asst_gULrRxDjoYojVDgI5GpxsZPb\n"
     ]
    }
   ],
   "source": [
    "for agent in agents_list:\n",
    "   agents_client.delete_agent(agent.id)\n",
    "   print(f\"Deleted agent, agent ID: {agent.id}\")"
   ]
  }
 ],
 "metadata": {
  "kernelspec": {
   "display_name": "test_env",
   "language": "python",
   "name": "python3"
  },
  "language_info": {
   "codemirror_mode": {
    "name": "ipython",
    "version": 3
   },
   "file_extension": ".py",
   "mimetype": "text/x-python",
   "name": "python",
   "nbconvert_exporter": "python",
   "pygments_lexer": "ipython3",
   "version": "3.11.9"
  },
  "varInspector": {
   "cols": {
    "lenName": 16,
    "lenType": 16,
    "lenVar": 40
   },
   "kernels_config": {
    "python": {
     "delete_cmd_postfix": "",
     "delete_cmd_prefix": "del ",
     "library": "var_list.py",
     "varRefreshCmd": "print(var_dic_list())"
    },
    "r": {
     "delete_cmd_postfix": ") ",
     "delete_cmd_prefix": "rm(",
     "library": "var_list.r",
     "varRefreshCmd": "cat(var_dic_list()) "
    }
   },
   "types_to_exclude": [
    "module",
    "function",
    "builtin_function_or_method",
    "instance",
    "_Feature"
   ],
   "window_display": false
  }
 },
 "nbformat": 4,
 "nbformat_minor": 5
}
