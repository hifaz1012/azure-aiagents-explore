{
 "cells": [
  {
   "cell_type": "markdown",
   "id": "431cc026-279f-4105-8444-f1b93650da0d",
   "metadata": {},
   "source": [
    "# Azure AI Agent service - Single agent\n",
    "\n",
    "<img src=\"https://learn.microsoft.com/en-us/azure/ai-services/agents/media/agent-service-the-glue.png\" width=800>\n",
    "\n",
    "> https://learn.microsoft.com/en-us/azure/ai-services/agents/"
   ]
  },
  {
   "cell_type": "code",
   "execution_count": 1,
   "id": "7a3e72d0-7521-438c-928d-5fa293b0f419",
   "metadata": {},
   "outputs": [],
   "source": [
    "import json\n",
    "import os\n",
    "import sys\n",
    "import time\n",
    "\n",
    "from azure.ai.agents import AgentsClient\n",
    "from azure.ai.agents.models import ListSortOrder\n",
    "from azure.identity import DefaultAzureCredential\n",
    "from datetime import datetime, timezone, timedelta\n",
    "from dotenv import load_dotenv\n",
    "from openai import AzureOpenAI"
   ]
  },
  {
   "cell_type": "code",
   "execution_count": 2,
   "id": "65334de7-4005-401a-89c1-be24f75abbd9",
   "metadata": {},
   "outputs": [
    {
     "data": {
      "text/plain": [
       "False"
      ]
     },
     "execution_count": 2,
     "metadata": {},
     "output_type": "execute_result"
    }
   ],
   "source": [
    "load_dotenv(\".env\")"
   ]
  },
  {
   "cell_type": "markdown",
   "id": "ec62788e",
   "metadata": {},
   "source": [
    "## Project client"
   ]
  },
  {
   "cell_type": "code",
   "execution_count": 3,
   "id": "76c7bbb7-0faa-4500-ba42-7c5b176f6196",
   "metadata": {},
   "outputs": [],
   "source": [
    "endpoint = os.getenv(\"PROJECT_ENDPOINT\")\n",
    "model = os.getenv(\"MODEL_DEPLOYMENT_NAME\")\n",
    "credential = DefaultAzureCredential()\n",
    "\n",
    "agents_client = AgentsClient(endpoint=endpoint, credential=credential)"
   ]
  },
  {
   "cell_type": "markdown",
   "id": "75de3d4e-1d24-4060-9bf8-70e5c638fffa",
   "metadata": {},
   "source": [
    "## Create agent"
   ]
  },
  {
   "cell_type": "code",
   "execution_count": 5,
   "id": "5a1fe1bf-f9bf-4588-a433-31f20d027f07",
   "metadata": {},
   "outputs": [
    {
     "name": "stdout",
     "output_type": "stream",
     "text": [
      "Created agent, agent ID: asst_5paEXYvzDLudFYrOy9MslOz8\n"
     ]
    }
   ],
   "source": [
    "agent = agents_client.create_agent(\n",
    "    model=model,\n",
    "    name=\"my-agent\",\n",
    "    instructions=\"You are helpful agent\",\n",
    ")\n",
    "print(f\"Created agent, agent ID: {agent.id}\")"
   ]
  },
  {
   "cell_type": "code",
   "execution_count": 6,
   "id": "ae72e261-9d96-42b2-ac1a-a250b4b63951",
   "metadata": {},
   "outputs": [],
   "source": [
    "prompt = \"What is the best time to visit sydney?\""
   ]
  },
  {
   "cell_type": "code",
   "execution_count": 7,
   "id": "7c12fd4a-0fdf-4e7b-b2f7-9e0d540c8a3f",
   "metadata": {},
   "outputs": [
    {
     "name": "stdout",
     "output_type": "stream",
     "text": [
      "Created thread, thread ID: thread_ZMWOXOls5w5C3Cx3nhfZP6h5\n"
     ]
    }
   ],
   "source": [
    "# [START create_thread]\n",
    "thread = agents_client.threads.create()\n",
    "# [END create_thread]\n",
    "print(f\"Created thread, thread ID: {thread.id}\")"
   ]
  },
  {
   "cell_type": "code",
   "execution_count": 8,
   "id": "f1269337",
   "metadata": {},
   "outputs": [
    {
     "name": "stdout",
     "output_type": "stream",
     "text": [
      "Created message, message ID: msg_5BJUSsfEBhzvvy33KEj60SUO\n"
     ]
    }
   ],
   "source": [
    "# [START create_message]\n",
    "message = agents_client.messages.create(thread_id=thread.id, role=\"user\", content=prompt)\n",
    "# [END create_message]\n",
    "print(f\"Created message, message ID: {message.id}\")"
   ]
  },
  {
   "cell_type": "code",
   "execution_count": 9,
   "id": "f67cd782",
   "metadata": {},
   "outputs": [
    {
     "name": "stdout",
     "output_type": "stream",
     "text": [
      "Created run, run ID: run_3EzsxlE2ekeOtJWF8bJaLWK4\n"
     ]
    }
   ],
   "source": [
    "# [START create_run]\n",
    "run = agents_client.runs.create(thread_id=thread.id, agent_id=agent.id)\n",
    "# [END create_run]\n",
    "print(f\"Created run, run ID: {run.id}\")"
   ]
  },
  {
   "cell_type": "code",
   "execution_count": 11,
   "id": "0fbd1da7-7019-4993-933a-da008aed4509",
   "metadata": {},
   "outputs": [
    {
     "name": "stdout",
     "output_type": "stream",
     "text": [
      "Run status: RunStatus.COMPLETED\n"
     ]
    }
   ],
   "source": [
    "# Poll the run as long as run status is queued or in progress\n",
    "while run.status in [\"queued\", \"in_progress\", \"requires_action\"]:\n",
    "    # Wait for a second\n",
    "    time.sleep(1)\n",
    "    run = agents_client.runs.get(thread_id=thread.id, run_id=run.id)\n",
    "    print(f\"Run status: {run.status}\")\n",
    "\n",
    "    if run.status == \"failed\":\n",
    "        print(f\"Run error: {run.last_error}\")"
   ]
  },
  {
   "cell_type": "code",
   "execution_count": 12,
   "id": "1852cd9b-3d79-4a52-81cb-b3773d9d3525",
   "metadata": {},
   "outputs": [
    {
     "data": {
      "text/plain": [
       "{'prompt_tokens': 39, 'completion_tokens': 283, 'total_tokens': 322, 'prompt_token_details': {'cached_tokens': 0}}"
      ]
     },
     "execution_count": 12,
     "metadata": {},
     "output_type": "execute_result"
    }
   ],
   "source": [
    "run.usage"
   ]
  },
  {
   "cell_type": "code",
   "execution_count": 14,
   "id": "3c4de121-4ffa-4f9a-9984-655b893fae9e",
   "metadata": {},
   "outputs": [
    {
     "name": "stdout",
     "output_type": "stream",
     "text": [
      "MessageRole.USER: What is the best time to visit sydney?\n",
      "MessageRole.AGENT: The best time to visit **Sydney** depends on what you’re looking for, but generally:\n",
      "\n",
      "### **Best Time: September to November & March to May**\n",
      "- **Spring (September–November):** Pleasant temperatures (17–23°C), blooming flowers, fewer crowds, and relatively low hotel prices.\n",
      "- **Autumn (March–May):** Mild weather (18–25°C), clear skies, and fewer tourists compared to summer. It’s perfect for outdoor activities and sightseeing.\n",
      "\n",
      "---\n",
      "\n",
      "### **Other Seasons:**\n",
      "**Summer (December–February):**\n",
      "- Busy tourist season, especially around Christmas/New Year\n",
      "- Warm/hot weather (20–30°C)\n",
      "- Beaches are lively, but accommodation prices are high and attractions are crowded\n",
      "\n",
      "**Winter (June–August):**\n",
      "- Cooler temperatures (8–17°C)\n",
      "- Fewer tourists, lower hotel prices\n",
      "- Good for those who enjoy quieter travel and exploring museums, galleries, and indoor attractions\n",
      "\n",
      "---\n",
      "\n",
      "### **Special Events**\n",
      "- **New Year’s Eve (December 31):** World-famous fireworks over Sydney Harbour, very busy—book way in advance!\n",
      "- **Vivid Sydney (May–June):** Spectacular light festival\n",
      "\n",
      "---\n",
      "\n",
      "**Summary:**  \n",
      "**September–November** and **March–May** are generally considered the best times to visit Sydney for comfortable weather and a balance between lively activities and manageable crowds.\n"
     ]
    }
   ],
   "source": [
    "# [START list_messages]\n",
    "messages = agents_client.messages.list(thread_id=thread.id, order=ListSortOrder.ASCENDING)\n",
    "for msg in messages:\n",
    "    if msg.text_messages:\n",
    "        last_text = msg.text_messages[-1]\n",
    "        print(f\"{msg.role}: {last_text.text.value}\")\n",
    "# [END list_messages]"
   ]
  },
  {
   "cell_type": "markdown",
   "id": "3c2c916a",
   "metadata": {},
   "source": [
    "## Clean Up: Delete Agent"
   ]
  },
  {
   "cell_type": "code",
   "execution_count": null,
   "id": "56285ad1-6676-45dc-9f58-839902da04b5",
   "metadata": {},
   "outputs": [
    {
     "name": "stdout",
     "output_type": "stream",
     "text": [
      "Deleted agent, agent ID: asst_YE9x6ypds6YmyCpBxP0T1bcw\n"
     ]
    }
   ],
   "source": [
    "agents_client.delete_agent(agent.id)\n",
    "print(f\"Deleted agent, agent ID: {agent.id}\")"
   ]
  }
 ],
 "metadata": {
  "kernelspec": {
   "display_name": "test_env",
   "language": "python",
   "name": "python3"
  },
  "language_info": {
   "codemirror_mode": {
    "name": "ipython",
    "version": 3
   },
   "file_extension": ".py",
   "mimetype": "text/x-python",
   "name": "python",
   "nbconvert_exporter": "python",
   "pygments_lexer": "ipython3",
   "version": "3.11.9"
  },
  "varInspector": {
   "cols": {
    "lenName": 16,
    "lenType": 16,
    "lenVar": 40
   },
   "kernels_config": {
    "python": {
     "delete_cmd_postfix": "",
     "delete_cmd_prefix": "del ",
     "library": "var_list.py",
     "varRefreshCmd": "print(var_dic_list())"
    },
    "r": {
     "delete_cmd_postfix": ") ",
     "delete_cmd_prefix": "rm(",
     "library": "var_list.r",
     "varRefreshCmd": "cat(var_dic_list()) "
    }
   },
   "types_to_exclude": [
    "module",
    "function",
    "builtin_function_or_method",
    "instance",
    "_Feature"
   ],
   "window_display": false
  }
 },
 "nbformat": 4,
 "nbformat_minor": 5
}
